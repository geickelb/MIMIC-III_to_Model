{
 "cells": [
  {
   "cell_type": "markdown",
   "metadata": {},
   "source": [
    "source: https://rapidminer.com/blog/data-prep-time-consuming-tedious/, data origionall published on Forbes\n",
    "<br>\n",
    "<img src=\"../images/data_prep_time.jpeg\"\n",
    "     alt=\"Markdown Monster icon\"\n",
    "     height=600\n",
    "     width= 1000\n",
    "     style=\"float: left; margin-right: 0.5px;\" />"
   ]
  },
  {
   "cell_type": "markdown",
   "metadata": {},
   "source": [
    "## we spend ~80% of our time on prep, and we seem to enjoy this the least. Lets spend an hour talking about that!\n",
    "___"
   ]
  },
  {
   "cell_type": "markdown",
   "metadata": {},
   "source": [
    "# a little about me first:\n",
    "* I'm a PhD candidate in Biomedical Informatics at Northwestern \n",
    "* I found this field completely on accident and after failing a few times\n",
    "* I spent a 8 years of my life (college + 4 years after) working to get into medical school and was rejected twice\n",
    "* In this time, I worked in a Hematopathology/Genetics laboratory doing clinical & research work. \n",
    "* I stumbled retrospective data cleaning & analysis during this time\n",
    "* I accidently fell in love with it ->  quarter life crysis -> -> now I'm getting a PhD\n"
   ]
  },
  {
   "cell_type": "markdown",
   "metadata": {},
   "source": [
    "# I wrote this workshop for the person I was 8,6,4, 2, and 1 year(s) ago\n",
    "* a person who is curious what kind of work is involved in perparing data\n",
    "* a person who is given clinical data and tasked with doing somthing with it without being trained how to do so\n",
    "* a person who sees both the potential and barriers in leveraging Electronic Health Record data\n",
    "* a person who is learning how to work with data in python, but can't find examples that are commented and well explained\n",
    "* a person who does clinical data science, and wants to see how another person does it for reference"
   ]
  },
  {
   "cell_type": "markdown",
   "metadata": {},
   "source": [
    "# Agenda\n",
    "1. Introduce a basic clinical datascience workflow structure\n",
    "1. Describe the dataset\n",
    "1. provide an annotated demo of a short clinical datascience workflow\n",
    "    * focus on questions to ask & code to run them\n",
    "\n",
    "# Code Inspiration:\n",
    "* prediction task & workflow inspired by: https://github.com/alistairewj/challenge2012/blob/master/prepare-data.ipynb\n",
    "* my own research: https://github.com/geickelb/mimiciii-antibiotics-opensource"
   ]
  },
  {
   "cell_type": "markdown",
   "metadata": {},
   "source": [
    "----------\n",
    "# 1. Introduce components of a basic clinical datascience framework\n",
    "----------"
   ]
  },
  {
   "cell_type": "markdown",
   "metadata": {},
   "source": [
    "### Example workflow:\n",
    "<img src=\"../images/mimic_workflow_workshop3.png\"\n",
    "     alt=\"Markdown Monster icon\"\n",
    "     height=1000\n",
    "     width= 1500\n",
    "     style=\"float: left; margin-right: 0.5px;\" />"
   ]
  },
  {
   "cell_type": "markdown",
   "metadata": {},
   "source": [
    "----------\n",
    "# 2. Describe our framework\n",
    "----------"
   ]
  },
  {
   "cell_type": "markdown",
   "metadata": {},
   "source": [
    "## Clinical Problem:\n",
    "* in hospital mortality is a problem, and we want to be able to better predict it.\n",
    "\n",
    "## Dataset\n",
    "#### Source:\n",
    "* https://physionet.org/content/challenge-2012/1.0.0/\n",
    "\n",
    "#### Description:\n",
    "* **MIMIC-III**:  \n",
    "    * de-identified ICU dataset from Beth Israel Deaconess Medical Center\n",
    "    * containing 12 years of patient care data (2001-2012)\n",
    "    * data on over 61,000 ICU stays\n",
    "* **Physionet 2012 challenge dataset**:\n",
    "    * Subset of patients and variables from MIMIC-III dataset\n",
    "    * **does not require all participants to sign up for a physionet account**\n",
    "    * data on ~4,000 ICU stays\n",
    "    * note: I have made some modifications to the origional challenge data to make it more easily usable\n"
   ]
  },
  {
   "cell_type": "markdown",
   "metadata": {},
   "source": [
    "## Data Preparation\n",
    "### Cohort Specification (already done for us)\n",
    "* **Inclusion**\n",
    "    * All patients were adults who were admitted for a wide variety of reasons to cardiac, medical, surgical, and trauma ICUs. \n",
    "* **Exclusion**\n",
    "    * ICU stays of less than 48 hours\n",
    "* **Outcomes**\n",
    "    * Multiple outcomes are provided (see documentation)\n",
    "    * Our chosen outcome: In Hospital Mortality (y/n)\n"
   ]
  },
  {
   "cell_type": "markdown",
   "metadata": {},
   "source": [
    "### Data Extraction (already done for us)\n",
    "* **Structured Variables**\n",
    "    * Up to 42 variables were recorded at least once during the first 48 hours after admission to the ICU. \n",
    "    * Sparce: Not all variables are available in all cases\n",
    "    * Static variables: 6 of these variables are general descriptors (collected on admission)\n",
    "    * Longitudinal variables: 36 longitudinal time series variables (multiple observations may be available)\n",
    "    * time stamp: time after ICU admission (HH:MM) \n"
   ]
  },
  {
   "cell_type": "markdown",
   "metadata": {},
   "source": [
    "### Data Cleaning (TODO)\n",
    "### Preprocessing( TODO)\n",
    "## Modeling (see modeling.ipynb)\n",
    "## Model Evaluation (see modeling.ipynb)"
   ]
  },
  {
   "cell_type": "markdown",
   "metadata": {},
   "source": [
    "-------\n",
    "# 3. demo with focus on questions to ask and the code to ask them: \n",
    "1. What does my dataset look like, and what do the columns mean?\n",
    "1. What kinds of data do i have in my dataset?\n",
    "1. do certain kinds of data need to be handled differently?\n",
    "1. How is my dataset formatted and how could I format it? \n",
    "1. What kinds of data do i have?\n",
    "1. do certain kinds of data need to be handled differently?\n",
    "1. does my dataset have erroneous values?\n",
    "1. How is data collected and are values missing? \n",
    "\n",
    "-------"
   ]
  },
  {
   "cell_type": "markdown",
   "metadata": {},
   "source": [
    "# The preamble python stuff: importing the packages and datasets"
   ]
  },
  {
   "cell_type": "code",
   "execution_count": 1,
   "metadata": {},
   "outputs": [],
   "source": [
    "## importing packages\n",
    "import pandas as pd # a brilliant package for data manipulation & analysis, this package introduces a \"dataframe\" similar to that in R.\n",
    "import os # default package that is included with python, helpful for filepath stuff. \n",
    "import numpy as np # a foundational package for  arrays, matricies, and associated mathmatical operations\n",
    "import matplotlib.pyplot as plt # a foundational plotting and datavisualization library, highly customizable, but a bit less user friendly\n",
    "import seaborn as sns # a newer plotting library, less customizable, but has better default settings & is much easier to plug and play"
   ]
  },
  {
   "cell_type": "code",
   "execution_count": 2,
   "metadata": {},
   "outputs": [],
   "source": [
    "## importing datasets\n",
    "df = pd.read_csv('../data/set-b_predictors.csv') ## assumes your working directory is the base of this github repo.\n",
    "y = pd.read_csv('../data/set-b_outcomes.csv') ## assumes your working directory is the base of this github repo.\n",
    "\n",
    "### for debugging if above doesn't work\n",
    "# the above code is written assuming your working directory is the base of this github repo.\n",
    "# os.getcwd() #useful command to see what your current working directory (or implied) is. \n",
    "# os.chdir(path) #command to change the CWD, where path should be to the MIMIC-III_to_Model base folder. for me source ='/Users/geickelb1/Documents/GitHub/MIMIC-III_to_Model/'"
   ]
  },
  {
   "cell_type": "markdown",
   "metadata": {},
   "source": [
    "remember, we can think of data preparation as a 4 stage process: **Cohort specification, Data Extraction, Data Cleaning, and Preprocessing**.\n",
    "\n",
    "in this demo, **Cohort speficiation** and **Data Extraction** have already been performed for us so we can focus on the steps of **Data Cleaning** and **Preprocessing**.\n",
    "\n"
   ]
  },
  {
   "cell_type": "code",
   "execution_count": null,
   "metadata": {},
   "outputs": [],
   "source": []
  },
  {
   "cell_type": "markdown",
   "metadata": {},
   "source": [
    "<a id=\"Data_Cleaning\"></a>\n",
    "# Data Cleaning: because garbage in == garbage out. "
   ]
  },
  {
   "cell_type": "markdown",
   "metadata": {},
   "source": [
    "1. **What does my dataset look like, and what do the columns mean?**\n",
    "1. What kinds of data do i have in my dataset?\n",
    "1. do certain kinds of data need to be handled differently?\n",
    "1. How is my dataset formatted and how could I format it? \n",
    "1. What kinds of data do i have?\n",
    "1. do certain kinds of data need to be handled differently?\n",
    "1. does my dataset have erroneous values?\n",
    "1. How is data collected and are values missing? "
   ]
  },
  {
   "cell_type": "markdown",
   "metadata": {},
   "source": [
    "# [don't know where to put this]\n",
    "* data quality issues to look out for\n",
    "* duplicate entries (or two entries in one window)\n",
    "* erroneous values\n",
    "* missing values"
   ]
  },
  {
   "cell_type": "markdown",
   "metadata": {},
   "source": [
    "lets get a quick sense of what the data looks like and what the columns mean:"
   ]
  },
  {
   "cell_type": "code",
   "execution_count": 3,
   "metadata": {},
   "outputs": [
    {
     "data": {
      "text/html": [
       "<div>\n",
       "<style scoped>\n",
       "    .dataframe tbody tr th:only-of-type {\n",
       "        vertical-align: middle;\n",
       "    }\n",
       "\n",
       "    .dataframe tbody tr th {\n",
       "        vertical-align: top;\n",
       "    }\n",
       "\n",
       "    .dataframe thead th {\n",
       "        text-align: right;\n",
       "    }\n",
       "</style>\n",
       "<table border=\"1\" class=\"dataframe\">\n",
       "  <thead>\n",
       "    <tr style=\"text-align: right;\">\n",
       "      <th></th>\n",
       "      <th>time</th>\n",
       "      <th>parameter</th>\n",
       "      <th>value</th>\n",
       "      <th>recordid</th>\n",
       "    </tr>\n",
       "  </thead>\n",
       "  <tbody>\n",
       "    <tr>\n",
       "      <th>0</th>\n",
       "      <td>00:00</td>\n",
       "      <td>RecordID</td>\n",
       "      <td>144404.0</td>\n",
       "      <td>144404</td>\n",
       "    </tr>\n",
       "    <tr>\n",
       "      <th>1</th>\n",
       "      <td>00:00</td>\n",
       "      <td>Age</td>\n",
       "      <td>71.0</td>\n",
       "      <td>144404</td>\n",
       "    </tr>\n",
       "    <tr>\n",
       "      <th>2</th>\n",
       "      <td>00:00</td>\n",
       "      <td>Gender</td>\n",
       "      <td>1.0</td>\n",
       "      <td>144404</td>\n",
       "    </tr>\n",
       "    <tr>\n",
       "      <th>3</th>\n",
       "      <td>00:00</td>\n",
       "      <td>Height</td>\n",
       "      <td>172.7</td>\n",
       "      <td>144404</td>\n",
       "    </tr>\n",
       "    <tr>\n",
       "      <th>4</th>\n",
       "      <td>00:00</td>\n",
       "      <td>ICUType</td>\n",
       "      <td>4.0</td>\n",
       "      <td>144404</td>\n",
       "    </tr>\n",
       "  </tbody>\n",
       "</table>\n",
       "</div>"
      ],
      "text/plain": [
       "    time parameter     value  recordid\n",
       "0  00:00  RecordID  144404.0    144404\n",
       "1  00:00       Age      71.0    144404\n",
       "2  00:00    Gender       1.0    144404\n",
       "3  00:00    Height     172.7    144404\n",
       "4  00:00   ICUType       4.0    144404"
      ]
     },
     "execution_count": 3,
     "metadata": {},
     "output_type": "execute_result"
    }
   ],
   "source": [
    "df.head(5)  #show the first 5 rows of the dataframe"
   ]
  },
  {
   "cell_type": "markdown",
   "metadata": {},
   "source": [
    "**column descriptions:**\n",
    "* time: the amount of time that has passed since ICU admission\n",
    "* parameter: the name of the parameter in question\n",
    "* value: value of the parameter in question\n",
    "* recordid: the foreign key tied to each unique ICU admission/stay"
   ]
  },
  {
   "cell_type": "code",
   "execution_count": null,
   "metadata": {},
   "outputs": [],
   "source": []
  },
  {
   "cell_type": "markdown",
   "metadata": {},
   "source": [
    "1. How **is** the data structured & how **do we want it** structured?\n",
    "    * Common structures:\n",
    "        * long: **multiple rows per timepoint** with single value column (valuenum) and label (vitalid); (perferred when cleaning):  \n",
    "        * wide: **one row per timepoint** with a column for each measurement;\n",
    "            * ![long_wide_data](../images/long_wide_data.png)\n"
   ]
  },
  {
   "cell_type": "markdown",
   "metadata": {},
   "source": [
    "<details> \n",
    "  <summary> how is our data structured? (click to reveal answer)<b> </summary>\n",
    "   long format \n",
    "</details>"
   ]
  },
  {
   "cell_type": "markdown",
   "metadata": {},
   "source": [
    "long format is helpful because the number of columns doesn't change, and we can address each group through iteration or split-apply-combine operations"
   ]
  },
  {
   "cell_type": "markdown",
   "metadata": {},
   "source": [
    "### useful tools:\n",
    "convert wide to long: \n",
    "* pandas.melt() \n",
    "* https://pandas.pydata.org/pandas-docs/stable/reference/api/pandas.melt.html\n",
    "\n",
    "convert long to wide:\n",
    "* df.pivot()\n",
    "* https://pandas.pydata.org/pandas-docs/stable/reference/api/pandas.DataFrame.pivot.html#pandas.DataFrame.pivot"
   ]
  },
  {
   "cell_type": "markdown",
   "metadata": {},
   "source": [
    "#### remember, for modeling we ultimately need a wide format dataframe where each recordid has a single row. \n",
    "**my recommended approach: get the dataframe into long format -> perform all the cleaning/preprocessing -> pivot to wide format**"
   ]
  },
  {
   "cell_type": "code",
   "execution_count": null,
   "metadata": {},
   "outputs": [],
   "source": []
  },
  {
   "cell_type": "markdown",
   "metadata": {},
   "source": [
    "1. <del>What does my dataset look like, and what do the columns mean?\n",
    "1. <del>How **is** the data formatted & how **do we want it** formatted?\n",
    "1. **What kinds & types of data do i have in my dataset?**\n",
    "       * types: float, int, string, mixed...\n",
    "       * kinds: longitudinal, static\n"
   ]
  },
  {
   "cell_type": "markdown",
   "metadata": {},
   "source": [
    "#### lets first look at data types for every parameter:"
   ]
  },
  {
   "cell_type": "code",
   "execution_count": 4,
   "metadata": {},
   "outputs": [
    {
     "data": {
      "text/plain": [
       "parameter\n",
       "ALP            float64\n",
       "ALT            float64\n",
       "AST            float64\n",
       "Age            float64\n",
       "Albumin        float64\n",
       "BUN            float64\n",
       "Bilirubin      float64\n",
       "Cholesterol    float64\n",
       "Creatinine     float64\n",
       "DiasABP        float64\n",
       "FiO2           float64\n",
       "GCS            float64\n",
       "Gender         float64\n",
       "Glucose        float64\n",
       "HCO3           float64\n",
       "HCT            float64\n",
       "HR             float64\n",
       "Height         float64\n",
       "ICUType        float64\n",
       "K              float64\n",
       "Lactate        float64\n",
       "MAP            float64\n",
       "MechVent       float64\n",
       "Mg             float64\n",
       "NIDiasABP      float64\n",
       "NIMAP          float64\n",
       "NISysABP       float64\n",
       "Na             float64\n",
       "PaCO2          float64\n",
       "PaO2           float64\n",
       "Platelets      float64\n",
       "RecordID       float64\n",
       "RespRate       float64\n",
       "SaO2           float64\n",
       "SysABP         float64\n",
       "Temp           float64\n",
       "TroponinI      float64\n",
       "TroponinT      float64\n",
       "Urine          float64\n",
       "WBC            float64\n",
       "Weight         float64\n",
       "pH             float64\n",
       "Name: value, dtype: object"
      ]
     },
     "execution_count": 4,
     "metadata": {},
     "output_type": "execute_result"
    }
   ],
   "source": [
    "## groupby[value].apply is a: split-apply-combine type operation. \n",
    "(df\n",
    "     .groupby('parameter') #split each paramter into groups\n",
    "         ['value'] #look at the value column for each group\n",
    "             .apply(np.dtype)) #apply the np.dtype() function to each group of values"
   ]
  },
  {
   "cell_type": "markdown",
   "metadata": {},
   "source": [
    "we now know all of our data is numerical, so we don't have to deal with any text"
   ]
  },
  {
   "cell_type": "code",
   "execution_count": null,
   "metadata": {},
   "outputs": [],
   "source": []
  },
  {
   "cell_type": "markdown",
   "metadata": {},
   "source": [
    "#### now lets explore the kinds of data we have:\n",
    "\n",
    "if we look back to the data extraction details, we know we have both **static** (ie taken on admission) and **longitudinal variables**.\n"
   ]
  },
  {
   "cell_type": "markdown",
   "metadata": {},
   "source": [
    "visualization for longitudinal variables over time can look across multiple patients :\n",
    "\n",
    "<img src=\"../images/async_uneven_imbalanced4.png\" \n",
    "     height=400\n",
    "     width= 400\n",
    "     alt=\"Example Visualization of a Snapshot (aggregated) Prediction Model\" \n",
    "     title=\"Snapshot Variable Prediction Model\" />"
   ]
  },
  {
   "cell_type": "code",
   "execution_count": 5,
   "metadata": {},
   "outputs": [
    {
     "data": {
      "text/plain": [
       "parameter\n",
       "ALP              3209\n",
       "ALT              3302\n",
       "AST              3301\n",
       "Age              4000\n",
       "Albumin          2450\n",
       "BUN             13891\n",
       "Bilirubin        3329\n",
       "Cholesterol       356\n",
       "Creatinine      13959\n",
       "DiasABP        146210\n",
       "FiO2            31591\n",
       "GCS             62566\n",
       "Gender           4000\n",
       "Glucose         13154\n",
       "HCO3            13612\n",
       "HCT             18439\n",
       "HR             228606\n",
       "Height           4000\n",
       "ICUType          4000\n",
       "K               14667\n",
       "Lactate          8461\n",
       "MAP            146458\n",
       "MechVent        30215\n",
       "Mg              13725\n",
       "NIDiasABP       99262\n",
       "NIMAP           97883\n",
       "NISysABP        99420\n",
       "Na              13721\n",
       "PaCO2           22840\n",
       "PaO2            22774\n",
       "Platelets       14349\n",
       "RecordID         4000\n",
       "RespRate        56359\n",
       "SaO2             7592\n",
       "SysABP         146259\n",
       "Temp            84552\n",
       "TroponinI         376\n",
       "TroponinT        2169\n",
       "Urine          137123\n",
       "WBC             13092\n",
       "Weight         129438\n",
       "pH              23825\n",
       "Name: value, dtype: int64"
      ]
     },
     "execution_count": 5,
     "metadata": {},
     "output_type": "execute_result"
    }
   ],
   "source": [
    "## groupby[value].apply is a: split-apply-combine type operation. \n",
    "(df\n",
    "     .groupby(['parameter']) #split each parameterinto groups\n",
    "         ['value'] #look at the value column in each group\n",
    "             .count()) #count the number of values we see"
   ]
  },
  {
   "cell_type": "code",
   "execution_count": 6,
   "metadata": {},
   "outputs": [
    {
     "data": {
      "text/plain": [
       "4000"
      ]
     },
     "execution_count": 6,
     "metadata": {},
     "output_type": "execute_result"
    }
   ],
   "source": [
    "df.recordid.nunique()"
   ]
  },
  {
   "cell_type": "markdown",
   "metadata": {},
   "source": [
    "takeaway: we have 4000 patients, so if this count is above 4000, we know it has been measured more than once per each patient. "
   ]
  },
  {
   "cell_type": "code",
   "execution_count": 7,
   "metadata": {},
   "outputs": [
    {
     "data": {
      "text/plain": [
       "parameter\n",
       "ALP            1689\n",
       "ALT            1735\n",
       "AST            1736\n",
       "Age            4000\n",
       "Albumin        1631\n",
       "BUN            3944\n",
       "Bilirubin      1728\n",
       "Cholesterol     343\n",
       "Creatinine     3944\n",
       "DiasABP        2811\n",
       "FiO2           2702\n",
       "GCS            3935\n",
       "Gender         4000\n",
       "Glucose        3912\n",
       "HCO3           3939\n",
       "HCT            3940\n",
       "HR             3935\n",
       "Height         4000\n",
       "ICUType        4000\n",
       "K              3927\n",
       "Lactate        2215\n",
       "MAP            2806\n",
       "MechVent       2511\n",
       "Mg             3917\n",
       "NIDiasABP      3518\n",
       "NIMAP          3516\n",
       "NISysABP       3534\n",
       "Na             3937\n",
       "PaCO2          3012\n",
       "PaO2           3011\n",
       "Platelets      3938\n",
       "RecordID       4000\n",
       "RespRate       1127\n",
       "SaO2           1753\n",
       "SysABP         2811\n",
       "Temp           3935\n",
       "TroponinI       181\n",
       "TroponinT       942\n",
       "Urine          3904\n",
       "WBC            3934\n",
       "Weight         4000\n",
       "pH             3031\n",
       "Name: recordid, dtype: int64"
      ]
     },
     "execution_count": 7,
     "metadata": {},
     "output_type": "execute_result"
    }
   ],
   "source": [
    "## going one step further lets ask: for all of the parameters, what is the maximum number of patients that have them. if this is higher than 4000 (# pt in the dataset), we should investigate\n",
    "df.groupby('parameter')['recordid'].nunique()"
   ]
  },
  {
   "cell_type": "code",
   "execution_count": null,
   "metadata": {},
   "outputs": [],
   "source": []
  },
  {
   "cell_type": "markdown",
   "metadata": {},
   "source": [
    "1. <del>What does my dataset look like, and what do the columns mean?\n",
    "1. <del>What kinds of data do i have in my dataset?\n",
    "1. <del> What kinds & types of data do i have in my dataset?\n",
    "1. **do certain kinds of data need to be handled differently?**\n"
   ]
  },
  {
   "cell_type": "markdown",
   "metadata": {},
   "source": [
    "longitudinal data has numerous timepoints over our datacollection window; \n",
    "static data has one timepoint (at admission)\n",
    "\n",
    "**answer: Yes.** longitudinal and static data is often much easier to handle when seperated.\n",
    "\n",
    "algorithm to seperate:\n",
    "#### our algorithm to seperate them:\n",
    "1. filter to rows of static data (we know this was taken upon admission, so time will = 00:00\n",
    "1. filter to parameters we know are ONLY measured at 00:00 \n",
    "1. copy this filtered dataframe as df_static\n",
    "1. remove the filtered rows from the longtidinal dataframe \n",
    "\n"
   ]
  },
  {
   "cell_type": "code",
   "execution_count": 8,
   "metadata": {},
   "outputs": [],
   "source": [
    "# filter to rows of static data (we know this was taken upon admission, so time will = 00:00\n",
    "df_static = df.loc[df['time'] == '00:00', :].copy() #filter the dataframe to only rows with time == \"00:00\" and asign a copy of this to the name df_static\n",
    "\n",
    "# filter to parameters that we know correspond to static data:\n",
    "static_vars = ['RecordID', 'Age', 'Gender', 'Height', 'ICUType', 'Weight'] #note the recordid here is redundant.\n",
    "\n",
    "#copy this filtered dataframe as df_static\n",
    "df_static = df_static.loc[df['parameter'].isin(static_vars)]\n",
    "\n",
    "# remove the filtered rows from the longtidinal dataframe\n",
    "idxDrop = df_static.index\n",
    "df = df.loc[~df.index.isin(idxDrop), :]"
   ]
  },
  {
   "cell_type": "code",
   "execution_count": 9,
   "metadata": {},
   "outputs": [],
   "source": [
    "# now lets check that df doesn't have the static vars, and vice versa"
   ]
  },
  {
   "cell_type": "code",
   "execution_count": 10,
   "metadata": {},
   "outputs": [
    {
     "data": {
      "text/plain": [
       "array(['DiasABP', 'GCS', 'HR', 'MAP', 'NIDiasABP', 'NIMAP', 'NISysABP',\n",
       "       'SysABP', 'Temp', 'Urine', 'Weight', 'FiO2', 'MechVent', 'pH',\n",
       "       'PaCO2', 'PaO2', 'SaO2', 'Albumin', 'ALP', 'ALT', 'AST',\n",
       "       'Bilirubin', 'BUN', 'Creatinine', 'Glucose', 'HCO3', 'HCT', 'Mg',\n",
       "       'Platelets', 'K', 'Na', 'WBC', 'Lactate', 'Cholesterol',\n",
       "       'RespRate', 'TroponinT', 'TroponinI'], dtype=object)"
      ]
     },
     "execution_count": 10,
     "metadata": {},
     "output_type": "execute_result"
    }
   ],
   "source": [
    "df['parameter'].unique()"
   ]
  },
  {
   "cell_type": "code",
   "execution_count": 11,
   "metadata": {},
   "outputs": [
    {
     "data": {
      "text/plain": [
       "array(['RecordID', 'Age', 'Gender', 'Height', 'ICUType', 'Weight'],\n",
       "      dtype=object)"
      ]
     },
     "execution_count": 11,
     "metadata": {},
     "output_type": "execute_result"
    }
   ],
   "source": [
    "df_static['parameter'].unique()"
   ]
  },
  {
   "cell_type": "code",
   "execution_count": 12,
   "metadata": {},
   "outputs": [
    {
     "data": {
      "text/plain": [
       "parameter\n",
       "ALP            1689\n",
       "ALT            1735\n",
       "AST            1736\n",
       "Albumin        1631\n",
       "BUN            3944\n",
       "Bilirubin      1728\n",
       "Cholesterol     343\n",
       "Creatinine     3944\n",
       "DiasABP        2811\n",
       "FiO2           2702\n",
       "GCS            3935\n",
       "Glucose        3912\n",
       "HCO3           3939\n",
       "HCT            3940\n",
       "HR             3935\n",
       "K              3927\n",
       "Lactate        2215\n",
       "MAP            2806\n",
       "MechVent       2511\n",
       "Mg             3917\n",
       "NIDiasABP      3518\n",
       "NIMAP          3516\n",
       "NISysABP       3534\n",
       "Na             3937\n",
       "PaCO2          3012\n",
       "PaO2           3011\n",
       "Platelets      3938\n",
       "RespRate       1127\n",
       "SaO2           1753\n",
       "SysABP         2811\n",
       "Temp           3935\n",
       "TroponinI       181\n",
       "TroponinT       942\n",
       "Urine          3904\n",
       "WBC            3934\n",
       "Weight         2682\n",
       "pH             3031\n",
       "Name: recordid, dtype: int64"
      ]
     },
     "execution_count": 12,
     "metadata": {},
     "output_type": "execute_result"
    }
   ],
   "source": [
    "## lets ask: for all of the parameters, what is the maximum number of patients that have them. if this is higher than 4000 (# pt in the dataset), we should investigate\n",
    "df.groupby('parameter')['recordid'].nunique()"
   ]
  },
  {
   "cell_type": "code",
   "execution_count": null,
   "metadata": {},
   "outputs": [],
   "source": []
  },
  {
   "cell_type": "markdown",
   "metadata": {},
   "source": [
    "1. <del>What does my dataset look like, and what do the columns mean?\n",
    "1. <del>What kinds of data do i have in my dataset?\n",
    "1. <del> What kinds & types of data do i have in my dataset?\n",
    "1. <del>do certain kinds of data need to be handled differently?\n",
    "1. QC: are there any duplicate values that need to be addressed?\n",
    "\n",
    "    "
   ]
  },
  {
   "cell_type": "code",
   "execution_count": 13,
   "metadata": {},
   "outputs": [
    {
     "data": {
      "text/html": [
       "<div>\n",
       "<style scoped>\n",
       "    .dataframe tbody tr th:only-of-type {\n",
       "        vertical-align: middle;\n",
       "    }\n",
       "\n",
       "    .dataframe tbody tr th {\n",
       "        vertical-align: top;\n",
       "    }\n",
       "\n",
       "    .dataframe thead th {\n",
       "        text-align: right;\n",
       "    }\n",
       "</style>\n",
       "<table border=\"1\" class=\"dataframe\">\n",
       "  <thead>\n",
       "    <tr style=\"text-align: right;\">\n",
       "      <th></th>\n",
       "      <th></th>\n",
       "      <th>value</th>\n",
       "    </tr>\n",
       "    <tr>\n",
       "      <th>recordid</th>\n",
       "      <th>parameter</th>\n",
       "      <th></th>\n",
       "    </tr>\n",
       "  </thead>\n",
       "  <tbody>\n",
       "    <tr>\n",
       "      <th>149509</th>\n",
       "      <th>Weight</th>\n",
       "      <td>2</td>\n",
       "    </tr>\n",
       "    <tr>\n",
       "      <th>142675</th>\n",
       "      <th>Age</th>\n",
       "      <td>1</td>\n",
       "    </tr>\n",
       "    <tr>\n",
       "      <th>149427</th>\n",
       "      <th>Age</th>\n",
       "      <td>1</td>\n",
       "    </tr>\n",
       "    <tr>\n",
       "      <th rowspan=\"2\" valign=\"top\">149428</th>\n",
       "      <th>ICUType</th>\n",
       "      <td>1</td>\n",
       "    </tr>\n",
       "    <tr>\n",
       "      <th>Height</th>\n",
       "      <td>1</td>\n",
       "    </tr>\n",
       "    <tr>\n",
       "      <th>...</th>\n",
       "      <th>...</th>\n",
       "      <td>...</td>\n",
       "    </tr>\n",
       "    <tr>\n",
       "      <th rowspan=\"4\" valign=\"top\">146059</th>\n",
       "      <th>Weight</th>\n",
       "      <td>1</td>\n",
       "    </tr>\n",
       "    <tr>\n",
       "      <th>RecordID</th>\n",
       "      <td>1</td>\n",
       "    </tr>\n",
       "    <tr>\n",
       "      <th>ICUType</th>\n",
       "      <td>1</td>\n",
       "    </tr>\n",
       "    <tr>\n",
       "      <th>Height</th>\n",
       "      <td>1</td>\n",
       "    </tr>\n",
       "    <tr>\n",
       "      <th>152864</th>\n",
       "      <th>Weight</th>\n",
       "      <td>1</td>\n",
       "    </tr>\n",
       "  </tbody>\n",
       "</table>\n",
       "<p>24000 rows × 1 columns</p>\n",
       "</div>"
      ],
      "text/plain": [
       "                    value\n",
       "recordid parameter       \n",
       "149509   Weight         2\n",
       "142675   Age            1\n",
       "149427   Age            1\n",
       "149428   ICUType        1\n",
       "         Height         1\n",
       "...                   ...\n",
       "146059   Weight         1\n",
       "         RecordID       1\n",
       "         ICUType        1\n",
       "         Height         1\n",
       "152864   Weight         1\n",
       "\n",
       "[24000 rows x 1 columns]"
      ]
     },
     "execution_count": 13,
     "metadata": {},
     "output_type": "execute_result"
    }
   ],
   "source": [
    "#complicated query, lets break it down:\n",
    "(df_static.groupby(['recordid','parameter']) #groupby unique combinations of recordid and parameter (ie a composite key)\n",
    "                 [['value']] #(in this grouped by set, look at the value column)\n",
    "                     .count() #count the number of values per recordid-parameter composite key\n",
    "                         .sort_values('value',ascending=False) #sort the counts in decending order.\n",
    ")"
   ]
  },
  {
   "cell_type": "code",
   "execution_count": 14,
   "metadata": {},
   "outputs": [
    {
     "data": {
      "text/plain": [
       "value    2\n",
       "dtype: int64"
      ]
     },
     "execution_count": 14,
     "metadata": {},
     "output_type": "execute_result"
    }
   ],
   "source": [
    "# a more direct answer to the question but with less information (ie cant see which value is duplicated)\n",
    "df_static.groupby(['recordid', 'parameter'])[['value']].count().max() "
   ]
  },
  {
   "cell_type": "code",
   "execution_count": 15,
   "metadata": {},
   "outputs": [],
   "source": [
    "# solution: pick the last value when there is a duplicate\n",
    "df_static = df_static.groupby(['recordid', 'parameter'])[['value']].last()\n",
    "df_static.reset_index(inplace=True)"
   ]
  },
  {
   "cell_type": "markdown",
   "metadata": {},
   "source": [
    "any duplicate values in the longitudinal data will be addressed when we look at distribution, and aggregate later"
   ]
  },
  {
   "cell_type": "code",
   "execution_count": null,
   "metadata": {},
   "outputs": [],
   "source": []
  },
  {
   "cell_type": "markdown",
   "metadata": {},
   "source": [
    "1. <del>What does my dataset look like, and what do the columns mean?\n",
    "1. <del>What kinds of data do i have in my dataset?\n",
    "1. <del> What kinds & types of data do i have in my dataset?\n",
    "1. <del>do certain kinds of data need to be handled differently?\n",
    "1. <del>QC: are there any duplicate values that need to be addressed?\n",
    "1. QC: what do the distributions of static variables look like? \n",
    "    * look for erroneous or nonsensical values\n",
    "    * can you tell if error is due to order of magnitude, unit of measurement, or random?\n",
    "    "
   ]
  },
  {
   "cell_type": "code",
   "execution_count": 16,
   "metadata": {},
   "outputs": [
    {
     "data": {
      "image/png": "[encoded data removed]",
      "text/plain": [
       "<Figure size 432x288 with 1 Axes>"
      ]
     },
     "metadata": {
      "needs_background": "light"
     },
     "output_type": "display_data"
    },
    {
     "data": {
      "image/png": "[encoded data removed]",
      "text/plain": [
       "<Figure size 432x288 with 1 Axes>"
      ]
     },
     "metadata": {
      "needs_background": "light"
     },
     "output_type": "display_data"
    },
    {
     "data": {
      "image/png": "[encoded data removed]",
      "text/plain": [
       "<Figure size 432x288 with 1 Axes>"
      ]
     },
     "metadata": {
      "needs_background": "light"
     },
     "output_type": "display_data"
    },
    {
     "data": {
      "image/png": "[encoded data removed]",
      "text/plain": [
       "<Figure size 432x288 with 1 Axes>"
      ]
     },
     "metadata": {
      "needs_background": "light"
     },
     "output_type": "display_data"
    }
   ],
   "source": [
    "for element in df_static['parameter'].unique():\n",
    "    if element not in  ['RecordID','ICUType']:\n",
    "        (sns.distplot( #make a distribution plot\n",
    "            df_static.loc[ #get the df_static rows/col with the following criteria\n",
    "                (df_static['parameter']==element) & (df_static['value']).notnull(),'value']) # rows where parameter== element, and the value is not null; columns='value'\n",
    "                     .set_title(element))\n",
    "        plt.show()"
   ]
  },
  {
   "cell_type": "markdown",
   "metadata": {},
   "source": [
    "takeaways: \n",
    "* weight: what is this distibution of weight around 0? "
   ]
  },
  {
   "cell_type": "code",
   "execution_count": 17,
   "metadata": {},
   "outputs": [
    {
     "data": {
      "text/plain": [
       "count    359.000000\n",
       "mean       0.264624\n",
       "std        6.827774\n",
       "min       -1.000000\n",
       "25%       -1.000000\n",
       "50%       -1.000000\n",
       "75%       -1.000000\n",
       "max       39.900000\n",
       "Name: value, dtype: float64"
      ]
     },
     "execution_count": 17,
     "metadata": {},
     "output_type": "execute_result"
    }
   ],
   "source": [
    "df_static.loc[(df_static['parameter']=='Weight') & (df_static['value']<40),'value'].describe()"
   ]
  },
  {
   "cell_type": "markdown",
   "metadata": {},
   "source": [
    "takeaway:\n",
    "* we see there is are a large # of weight=-1. lets look into one of these:"
   ]
  },
  {
   "cell_type": "code",
   "execution_count": 18,
   "metadata": {},
   "outputs": [
    {
     "data": {
      "text/html": [
       "<div>\n",
       "<style scoped>\n",
       "    .dataframe tbody tr th:only-of-type {\n",
       "        vertical-align: middle;\n",
       "    }\n",
       "\n",
       "    .dataframe tbody tr th {\n",
       "        vertical-align: top;\n",
       "    }\n",
       "\n",
       "    .dataframe thead th {\n",
       "        text-align: right;\n",
       "    }\n",
       "</style>\n",
       "<table border=\"1\" class=\"dataframe\">\n",
       "  <thead>\n",
       "    <tr style=\"text-align: right;\">\n",
       "      <th></th>\n",
       "      <th>recordid</th>\n",
       "      <th>parameter</th>\n",
       "      <th>value</th>\n",
       "    </tr>\n",
       "  </thead>\n",
       "  <tbody>\n",
       "    <tr>\n",
       "      <th>5</th>\n",
       "      <td>142675</td>\n",
       "      <td>Weight</td>\n",
       "      <td>85.00</td>\n",
       "    </tr>\n",
       "    <tr>\n",
       "      <th>11</th>\n",
       "      <td>142676</td>\n",
       "      <td>Weight</td>\n",
       "      <td>-1.00</td>\n",
       "    </tr>\n",
       "    <tr>\n",
       "      <th>17</th>\n",
       "      <td>142680</td>\n",
       "      <td>Weight</td>\n",
       "      <td>78.80</td>\n",
       "    </tr>\n",
       "    <tr>\n",
       "      <th>23</th>\n",
       "      <td>142683</td>\n",
       "      <td>Weight</td>\n",
       "      <td>145.20</td>\n",
       "    </tr>\n",
       "    <tr>\n",
       "      <th>29</th>\n",
       "      <td>142688</td>\n",
       "      <td>Weight</td>\n",
       "      <td>90.00</td>\n",
       "    </tr>\n",
       "    <tr>\n",
       "      <th>...</th>\n",
       "      <td>...</td>\n",
       "      <td>...</td>\n",
       "      <td>...</td>\n",
       "    </tr>\n",
       "    <tr>\n",
       "      <th>23975</th>\n",
       "      <td>152849</td>\n",
       "      <td>Weight</td>\n",
       "      <td>83.18</td>\n",
       "    </tr>\n",
       "    <tr>\n",
       "      <th>23981</th>\n",
       "      <td>152851</td>\n",
       "      <td>Weight</td>\n",
       "      <td>87.00</td>\n",
       "    </tr>\n",
       "    <tr>\n",
       "      <th>23987</th>\n",
       "      <td>152858</td>\n",
       "      <td>Weight</td>\n",
       "      <td>74.00</td>\n",
       "    </tr>\n",
       "    <tr>\n",
       "      <th>23993</th>\n",
       "      <td>152862</td>\n",
       "      <td>Weight</td>\n",
       "      <td>57.00</td>\n",
       "    </tr>\n",
       "    <tr>\n",
       "      <th>23999</th>\n",
       "      <td>152864</td>\n",
       "      <td>Weight</td>\n",
       "      <td>-1.00</td>\n",
       "    </tr>\n",
       "  </tbody>\n",
       "</table>\n",
       "<p>4000 rows × 3 columns</p>\n",
       "</div>"
      ],
      "text/plain": [
       "       recordid parameter   value\n",
       "5        142675    Weight   85.00\n",
       "11       142676    Weight   -1.00\n",
       "17       142680    Weight   78.80\n",
       "23       142683    Weight  145.20\n",
       "29       142688    Weight   90.00\n",
       "...         ...       ...     ...\n",
       "23975    152849    Weight   83.18\n",
       "23981    152851    Weight   87.00\n",
       "23987    152858    Weight   74.00\n",
       "23993    152862    Weight   57.00\n",
       "23999    152864    Weight   -1.00\n",
       "\n",
       "[4000 rows x 3 columns]"
      ]
     },
     "execution_count": 18,
     "metadata": {},
     "output_type": "execute_result"
    }
   ],
   "source": [
    "df_static[df_static['parameter']=='Weight']"
   ]
  },
  {
   "cell_type": "markdown",
   "metadata": {},
   "source": [
    "lets look into one or two of these in the origional dataframe:"
   ]
  },
  {
   "cell_type": "code",
   "execution_count": 19,
   "metadata": {},
   "outputs": [
    {
     "data": {
      "text/html": [
       "<div>\n",
       "<style scoped>\n",
       "    .dataframe tbody tr th:only-of-type {\n",
       "        vertical-align: middle;\n",
       "    }\n",
       "\n",
       "    .dataframe tbody tr th {\n",
       "        vertical-align: top;\n",
       "    }\n",
       "\n",
       "    .dataframe thead th {\n",
       "        text-align: right;\n",
       "    }\n",
       "</style>\n",
       "<table border=\"1\" class=\"dataframe\">\n",
       "  <thead>\n",
       "    <tr style=\"text-align: right;\">\n",
       "      <th></th>\n",
       "      <th>time</th>\n",
       "      <th>parameter</th>\n",
       "      <th>value</th>\n",
       "      <th>recordid</th>\n",
       "    </tr>\n",
       "  </thead>\n",
       "  <tbody>\n",
       "    <tr>\n",
       "      <th>1369145</th>\n",
       "      <td>00:00</td>\n",
       "      <td>Weight</td>\n",
       "      <td>-1.0</td>\n",
       "      <td>152864</td>\n",
       "    </tr>\n",
       "  </tbody>\n",
       "</table>\n",
       "</div>"
      ],
      "text/plain": [
       "          time parameter  value  recordid\n",
       "1369145  00:00    Weight   -1.0    152864"
      ]
     },
     "execution_count": 19,
     "metadata": {},
     "output_type": "execute_result"
    }
   ],
   "source": [
    "\n",
    "df_origional = pd.read_csv('../data/predictors.csv') ## assumes your working directory is the base of this github repo.\n",
    "df_origional[(df_origional['parameter']=='Weight') & (df_origional['recordid']==152864)]"
   ]
  },
  {
   "cell_type": "code",
   "execution_count": 20,
   "metadata": {},
   "outputs": [
    {
     "data": {
      "text/html": [
       "<div>\n",
       "<style scoped>\n",
       "    .dataframe tbody tr th:only-of-type {\n",
       "        vertical-align: middle;\n",
       "    }\n",
       "\n",
       "    .dataframe tbody tr th {\n",
       "        vertical-align: top;\n",
       "    }\n",
       "\n",
       "    .dataframe thead th {\n",
       "        text-align: right;\n",
       "    }\n",
       "</style>\n",
       "<table border=\"1\" class=\"dataframe\">\n",
       "  <thead>\n",
       "    <tr style=\"text-align: right;\">\n",
       "      <th></th>\n",
       "      <th>time</th>\n",
       "      <th>parameter</th>\n",
       "      <th>value</th>\n",
       "      <th>recordid</th>\n",
       "    </tr>\n",
       "  </thead>\n",
       "  <tbody>\n",
       "    <tr>\n",
       "      <th>352876</th>\n",
       "      <td>00:00</td>\n",
       "      <td>Weight</td>\n",
       "      <td>-1.0</td>\n",
       "      <td>142676</td>\n",
       "    </tr>\n",
       "  </tbody>\n",
       "</table>\n",
       "</div>"
      ],
      "text/plain": [
       "         time parameter  value  recordid\n",
       "352876  00:00    Weight   -1.0    142676"
      ]
     },
     "execution_count": 20,
     "metadata": {},
     "output_type": "execute_result"
    }
   ],
   "source": [
    "df_origional[(df_origional['parameter']=='Weight') & (df_origional['recordid']==142676)]"
   ]
  },
  {
   "cell_type": "markdown",
   "metadata": {},
   "source": [
    "unclear what these are, and documentation doesn't say. for now we can replace with a null value and impute them later. "
   ]
  },
  {
   "cell_type": "code",
   "execution_count": 21,
   "metadata": {},
   "outputs": [],
   "source": [
    "del(df_origional) #removing this from memory \n",
    "df_static.loc[(df_static['parameter']=='Weight') & (df_static['value']==-1),'value']=np.nan"
   ]
  },
  {
   "cell_type": "code",
   "execution_count": 22,
   "metadata": {},
   "outputs": [
    {
     "data": {
      "text/plain": [
       "count    12.000000\n",
       "mean     36.833333\n",
       "std       2.815972\n",
       "min      30.000000\n",
       "25%      36.375000\n",
       "50%      37.350000\n",
       "75%      38.925000\n",
       "max      39.900000\n",
       "Name: value, dtype: float64"
      ]
     },
     "execution_count": 22,
     "metadata": {},
     "output_type": "execute_result"
    }
   ],
   "source": [
    "# lets look back at the distribution after removing them:\n",
    "df_static.loc[(df_static['parameter']=='Weight') & (df_static['value']<40),'value'].describe()"
   ]
  },
  {
   "cell_type": "code",
   "execution_count": null,
   "metadata": {},
   "outputs": [],
   "source": []
  },
  {
   "cell_type": "markdown",
   "metadata": {},
   "source": [
    "### so we have an idea how to investigate values that need to be replaced, lets write a function that will make replacing these values easy:"
   ]
  },
  {
   "cell_type": "code",
   "execution_count": 23,
   "metadata": {},
   "outputs": [],
   "source": [
    "def replace_value(df, parameter, replacement, threshold=None, threshold2=None, operator=None):\n",
    "    \"\"\"returns a dataframe where the erroneous values specified by the keyword arguments are replaced or nullified. \n",
    "\n",
    "    Keyword arguments:\n",
    "        df -- dataframe of longtiduinal values (dtype='dataframe', required)\n",
    "        parameter  -- df parameter to replace erroneous values on (dtype='string', required)\n",
    "        replacement -- value or modifier to replace specified erroneous values with (dtype='string', required)\n",
    "        threshold -- value that the operator is applied to to be considered erroneous  (dtype=int, required)\n",
    "        threshold2 -- only used for between.  (dtype=int, required)\n",
    "        operator --  '>' or '<', considered by the threshold to determine erroneous values (dtype='string', required)\n",
    "    \"\"\" \n",
    "    filtered = df['parameter'] == parameter\n",
    "\n",
    "    if operator =='<':\n",
    "        filtered = filtered & (df['value'] < threshold)\n",
    "\n",
    "    elif operator =='>':\n",
    "        filtered = filtered & (df['value'] > threshold)\n",
    "\n",
    "    elif operator =='between':\n",
    "        filtered = filtered & (df['value'] > threshold) & (df['value'] < threshold2)\n",
    "        \n",
    "    else:\n",
    "        filtered = filtered & (df['value'] == threshold)\n",
    "\n",
    "\n",
    "    if 'function' in str(type(replacement)): # if value replacement is a function, then apply that function, else just put the value in\n",
    "        # value replacement is a function of the input:\n",
    "        df.loc[filtered, 'value'] = df.loc[filtered, 'value'].apply(replacement)\n",
    "    else:\n",
    "        df.loc[filtered, 'value'] = replacement\n",
    "        \n",
    "    return df\n"
   ]
  },
  {
   "cell_type": "code",
   "execution_count": 24,
   "metadata": {},
   "outputs": [],
   "source": [
    "##### Heights\n",
    "df_static = replace_value(df_static, parameter='Height', replacement=np.nan, threshold=0, operator='<')\n",
    "\n",
    "# values less than 10 -> multiply by 100\n",
    "df_static = replace_value(df_static, parameter='Height', replacement=lambda x: x*100, threshold=10, operator='<')\n",
    "\n",
    "# values less than 25 -> multiply by 10\n",
    "df_static= replace_value(df_static, parameter='Height', replacement=lambda x: x*10, threshold=25, operator='<')\n",
    "\n",
    "# values between 25-100 -> *2.2 (inch -> cm)\n",
    "df_static= replace_value(df_static, parameter='Height', replacement=lambda x: x*2.2, threshold=100, operator='<')\n",
    "\n",
    "# values greater than 400 -> divide by 10\n",
    "df_static= replace_value(df_static, parameter='Height', replacement=lambda x: x*0.1, threshold=400, operator='>')"
   ]
  },
  {
   "cell_type": "code",
   "execution_count": 25,
   "metadata": {},
   "outputs": [],
   "source": [
    "### Age\n",
    "# replace anonomized ages (above 91.4) with 91.4\n",
    "df_static = replace_value(df_static, parameter='Age', replacement=91.4, threshold=130, operator='>')"
   ]
  },
  {
   "cell_type": "code",
   "execution_count": 26,
   "metadata": {},
   "outputs": [],
   "source": [
    "### Weight\n",
    "# replace erroneous weight (<35) or (>299)\n",
    "df_static = replace_value(df_static, parameter='Weight', replacement=np.nan, threshold=35, operator='<')\n",
    "df_static = replace_value(df_static, parameter='Weight', replacement=np.nan, threshold=299, operator='>')\n"
   ]
  },
  {
   "cell_type": "code",
   "execution_count": 27,
   "metadata": {},
   "outputs": [],
   "source": [
    "### Gender\n",
    "df_static = replace_value(df_static, parameter='Gender', replacement=np.nan, threshold=0, operator='<')"
   ]
  },
  {
   "cell_type": "code",
   "execution_count": null,
   "metadata": {},
   "outputs": [],
   "source": []
  },
  {
   "cell_type": "code",
   "execution_count": null,
   "metadata": {},
   "outputs": [],
   "source": []
  },
  {
   "cell_type": "markdown",
   "metadata": {},
   "source": [
    "1. <del>What does my dataset look like, and what do the columns mean?\n",
    "1. <del>What kinds of data do i have in my dataset?\n",
    "1. <del> What kinds & types of data do i have in my dataset?\n",
    "1. <del>do certain kinds of data need to be handled differently?\n",
    "1. <del>QC: are there any duplicate values that need to be addressed?\n",
    "1. <del>QC: what do the distributions of static variables look like? \n",
    "1. QC: what do the distributions of longitudinal variables look like? \n",
    "    * look for erroneous or nonsensical values\n",
    "    * can you tell if error is due to order of magnitude, unit of measurement, or random?\n"
   ]
  },
  {
   "cell_type": "code",
   "execution_count": 28,
   "metadata": {},
   "outputs": [
    {
     "data": {
      "text/plain": [
       "37"
      ]
     },
     "execution_count": 28,
     "metadata": {},
     "output_type": "execute_result"
    }
   ],
   "source": [
    "len(df['parameter'].unique()) #there are 37 different longitudinal variables"
   ]
  },
  {
   "cell_type": "markdown",
   "metadata": {},
   "source": [
    "lets look at the distribution of the longitudinal variables in groups of 10, since there are 37 of them"
   ]
  },
  {
   "cell_type": "code",
   "execution_count": 29,
   "metadata": {},
   "outputs": [
    {
     "data": {
      "image/png": "[encoded data removed]",
      "text/plain": [
       "<Figure size 432x288 with 1 Axes>"
      ]
     },
     "metadata": {
      "needs_background": "light"
     },
     "output_type": "display_data"
    },
    {
     "data": {
      "image/png": "[encoded data removed]",
      "text/plain": [
       "<Figure size 432x288 with 1 Axes>"
      ]
     },
     "metadata": {
      "needs_background": "light"
     },
     "output_type": "display_data"
    },
    {
     "data": {
      "image/png": "[encoded data removed]",
      "text/plain": [
       "<Figure size 432x288 with 1 Axes>"
      ]
     },
     "metadata": {
      "needs_background": "light"
     },
     "output_type": "display_data"
    },
    {
     "data": {
      "image/png": "[encoded data removed]",
      "text/plain": [
       "<Figure size 432x288 with 1 Axes>"
      ]
     },
     "metadata": {
      "needs_background": "light"
     },
     "output_type": "display_data"
    },
    {
     "data": {
      "image/png": "[encoded data removed]",
      "text/plain": [
       "<Figure size 432x288 with 1 Axes>"
      ]
     },
     "metadata": {
      "needs_background": "light"
     },
     "output_type": "display_data"
    },
    {
     "data": {
      "image/png": "[encoded data removed]",
      "text/plain": [
       "<Figure size 432x288 with 1 Axes>"
      ]
     },
     "metadata": {
      "needs_background": "light"
     },
     "output_type": "display_data"
    },
    {
     "data": {
      "image/png": "[encoded data removed]",
      "text/plain": [
       "<Figure size 432x288 with 1 Axes>"
      ]
     },
     "metadata": {
      "needs_background": "light"
     },
     "output_type": "display_data"
    },
    {
     "data": {
      "image/png": "[encoded data removed]",
      "text/plain": [
       "<Figure size 432x288 with 1 Axes>"
      ]
     },
     "metadata": {
      "needs_background": "light"
     },
     "output_type": "display_data"
    },
    {
     "data": {
      "image/png": "[encoded data removed]",
      "text/plain": [
       "<Figure size 432x288 with 1 Axes>"
      ]
     },
     "metadata": {
      "needs_background": "light"
     },
     "output_type": "display_data"
    },
    {
     "data": {
      "image/png": "[encoded data removed]",
      "text/plain": [
       "<Figure size 432x288 with 1 Axes>"
      ]
     },
     "metadata": {
      "needs_background": "light"
     },
     "output_type": "display_data"
    }
   ],
   "source": [
    "#warning large output\n",
    "for element in df['parameter'].unique()[0:10]:\n",
    "    if element not in  ['RecordID','ICUType']:\n",
    "        (sns.distplot( #make a distribution plot\n",
    "            df.loc[ #get the df_static rows/col with the following criteria\n",
    "                (df['parameter']==element) & (df['value']).notnull(),'value']) # rows where parameter== element, and the value is not null; columns='value'\n",
    "                     .set_title(element))\n",
    "        plt.show()"
   ]
  },
  {
   "cell_type": "code",
   "execution_count": 30,
   "metadata": {},
   "outputs": [
    {
     "data": {
      "image/png": "[encoded data removed]",
      "text/plain": [
       "<Figure size 432x288 with 1 Axes>"
      ]
     },
     "metadata": {
      "needs_background": "light"
     },
     "output_type": "display_data"
    },
    {
     "data": {
      "image/png": "[encoded data removed]",
      "text/plain": [
       "<Figure size 432x288 with 1 Axes>"
      ]
     },
     "metadata": {
      "needs_background": "light"
     },
     "output_type": "display_data"
    },
    {
     "name": "stderr",
     "output_type": "stream",
     "text": [
      "/Users/geickelb1/anaconda/envs/mimic_model/lib/python3.6/site-packages/statsmodels/nonparametric/kde.py:487: RuntimeWarning: invalid value encountered in true_divide\n",
      "  binned = fast_linbin(X, a, b, gridsize) / (delta * nobs)\n",
      "/Users/geickelb1/anaconda/envs/mimic_model/lib/python3.6/site-packages/statsmodels/nonparametric/kdetools.py:34: RuntimeWarning: invalid value encountered in double_scalars\n",
      "  FAC1 = 2*(np.pi*bw/RANGE)**2\n"
     ]
    },
    {
     "data": {
      "image/png": "[encoded data removed]",
      "text/plain": [
       "<Figure size 432x288 with 1 Axes>"
      ]
     },
     "metadata": {
      "needs_background": "light"
     },
     "output_type": "display_data"
    },
    {
     "data": {
      "image/png": "[encoded data removed]",
      "text/plain": [
       "<Figure size 432x288 with 1 Axes>"
      ]
     },
     "metadata": {
      "needs_background": "light"
     },
     "output_type": "display_data"
    },
    {
     "data": {
      "image/png": "[encoded data removed]",
      "text/plain": [
       "<Figure size 432x288 with 1 Axes>"
      ]
     },
     "metadata": {
      "needs_background": "light"
     },
     "output_type": "display_data"
    },
    {
     "data": {
      "image/png": "[encoded data removed]",
      "text/plain": [
       "<Figure size 432x288 with 1 Axes>"
      ]
     },
     "metadata": {
      "needs_background": "light"
     },
     "output_type": "display_data"
    },
    {
     "data": {
      "image/png": "[encoded data removed]",
      "text/plain": [
       "<Figure size 432x288 with 1 Axes>"
      ]
     },
     "metadata": {
      "needs_background": "light"
     },
     "output_type": "display_data"
    },
    {
     "data": {
      "image/png": "[encoded data removed]",
      "text/plain": [
       "<Figure size 432x288 with 1 Axes>"
      ]
     },
     "metadata": {
      "needs_background": "light"
     },
     "output_type": "display_data"
    },
    {
     "data": {
      "image/png": "[encoded data removed]",
      "text/plain": [
       "<Figure size 432x288 with 1 Axes>"
      ]
     },
     "metadata": {
      "needs_background": "light"
     },
     "output_type": "display_data"
    },
    {
     "data": {
      "image/png": "[encoded data removed]",
      "text/plain": [
       "<Figure size 432x288 with 1 Axes>"
      ]
     },
     "metadata": {
      "needs_background": "light"
     },
     "output_type": "display_data"
    }
   ],
   "source": [
    "#warning large output\n",
    "for element in df['parameter'].unique()[10:20]:\n",
    "    if element not in  ['RecordID','ICUType']:\n",
    "        (sns.distplot( #make a distribution plot\n",
    "            df.loc[ #get the df_static rows/col with the following criteria\n",
    "                (df['parameter']==element) & (df['value']).notnull(),'value']) # rows where parameter== element, and the value is not null; columns='value'\n",
    "                     .set_title(element))\n",
    "        plt.show()"
   ]
  },
  {
   "cell_type": "code",
   "execution_count": 31,
   "metadata": {},
   "outputs": [
    {
     "data": {
      "image/png": "[encoded data removed]",
      "text/plain": [
       "<Figure size 432x288 with 1 Axes>"
      ]
     },
     "metadata": {
      "needs_background": "light"
     },
     "output_type": "display_data"
    },
    {
     "data": {
      "image/png": "[encoded data removed]",
      "text/plain": [
       "<Figure size 432x288 with 1 Axes>"
      ]
     },
     "metadata": {
      "needs_background": "light"
     },
     "output_type": "display_data"
    },
    {
     "data": {
      "image/png": "[encoded data removed]",
      "text/plain": [
       "<Figure size 432x288 with 1 Axes>"
      ]
     },
     "metadata": {
      "needs_background": "light"
     },
     "output_type": "display_data"
    },
    {
     "data": {
      "image/png": "[encoded data removed]",
      "text/plain": [
       "<Figure size 432x288 with 1 Axes>"
      ]
     },
     "metadata": {
      "needs_background": "light"
     },
     "output_type": "display_data"
    },
    {
     "data": {
      "image/png": "[encoded data removed]",
      "text/plain": [
       "<Figure size 432x288 with 1 Axes>"
      ]
     },
     "metadata": {
      "needs_background": "light"
     },
     "output_type": "display_data"
    },
    {
     "data": {
      "image/png": "[encoded data removed]",
      "text/plain": [
       "<Figure size 432x288 with 1 Axes>"
      ]
     },
     "metadata": {
      "needs_background": "light"
     },
     "output_type": "display_data"
    },
    {
     "data": {
      "image/png": "[encoded data removed]",
      "text/plain": [
       "<Figure size 432x288 with 1 Axes>"
      ]
     },
     "metadata": {
      "needs_background": "light"
     },
     "output_type": "display_data"
    },
    {
     "data": {
      "image/png": "[encoded data removed]",
      "text/plain": [
       "<Figure size 432x288 with 1 Axes>"
      ]
     },
     "metadata": {
      "needs_background": "light"
     },
     "output_type": "display_data"
    },
    {
     "data": {
      "image/png": "[encoded data removed]",
      "text/plain": [
       "<Figure size 432x288 with 1 Axes>"
      ]
     },
     "metadata": {
      "needs_background": "light"
     },
     "output_type": "display_data"
    },
    {
     "data": {
      "image/png": "[encoded data removed]",
      "text/plain": [
       "<Figure size 432x288 with 1 Axes>"
      ]
     },
     "metadata": {
      "needs_background": "light"
     },
     "output_type": "display_data"
    }
   ],
   "source": [
    "#warning large output\n",
    "for element in df['parameter'].unique()[20:30]:\n",
    "    if element not in  ['RecordID','ICUType']:\n",
    "        (sns.distplot( #make a distribution plot\n",
    "            df.loc[ #get the df_static rows/col with the following criteria\n",
    "                (df['parameter']==element) & (df['value']).notnull(),'value']) # rows where parameter== element, and the value is not null; columns='value'\n",
    "                     .set_title(element))\n",
    "        plt.show()"
   ]
  },
  {
   "cell_type": "code",
   "execution_count": 32,
   "metadata": {},
   "outputs": [
    {
     "data": {
      "image/png": "[encoded data removed]",
      "text/plain": [
       "<Figure size 432x288 with 1 Axes>"
      ]
     },
     "metadata": {
      "needs_background": "light"
     },
     "output_type": "display_data"
    },
    {
     "data": {
      "image/png": "[encoded data removed]",
      "text/plain": [
       "<Figure size 432x288 with 1 Axes>"
      ]
     },
     "metadata": {
      "needs_background": "light"
     },
     "output_type": "display_data"
    },
    {
     "data": {
      "image/png": "[encoded data removed]",
      "text/plain": [
       "<Figure size 432x288 with 1 Axes>"
      ]
     },
     "metadata": {
      "needs_background": "light"
     },
     "output_type": "display_data"
    },
    {
     "data": {
      "image/png": "[encoded data removed]",
      "text/plain": [
       "<Figure size 432x288 with 1 Axes>"
      ]
     },
     "metadata": {
      "needs_background": "light"
     },
     "output_type": "display_data"
    },
    {
     "data": {
      "image/png": "[encoded data removed]",
      "text/plain": [
       "<Figure size 432x288 with 1 Axes>"
      ]
     },
     "metadata": {
      "needs_background": "light"
     },
     "output_type": "display_data"
    },
    {
     "data": {
      "image/png": "[encoded data removed]",
      "text/plain": [
       "<Figure size 432x288 with 1 Axes>"
      ]
     },
     "metadata": {
      "needs_background": "light"
     },
     "output_type": "display_data"
    },
    {
     "data": {
      "image/png": "[encoded data removed]",
      "text/plain": [
       "<Figure size 432x288 with 1 Axes>"
      ]
     },
     "metadata": {
      "needs_background": "light"
     },
     "output_type": "display_data"
    }
   ],
   "source": [
    "#warning large output\n",
    "for element in df['parameter'].unique()[30:]:\n",
    "    if element not in  ['RecordID','ICUType']:\n",
    "        (sns.distplot( #make a distribution plot\n",
    "            df.loc[ #get the df_static rows/col with the following criteria\n",
    "                (df['parameter']==element) & (df['value']).notnull(),'value']) # rows where parameter== element, and the value is not null; columns='value'\n",
    "                     .set_title(element))\n",
    "        plt.show()"
   ]
  },
  {
   "cell_type": "code",
   "execution_count": 33,
   "metadata": {},
   "outputs": [],
   "source": [
    "\n",
    "### now for lots of value cleanup\n",
    "df = replace_value(df, parameter='DiasABP', replacement=np.nan, threshold=-1)\n",
    "df = replace_value(df, parameter='DiasABP', replacement=np.nan, threshold=1, operator='<')\n",
    "df = replace_value(df, 'DiasABP', replacement=np.nan, threshold=200, operator='>')\n",
    "\n",
    "df = replace_value(df, 'SysABP', replacement=np.nan, threshold=1, operator='<')\n",
    "\n",
    "df = replace_value(df, 'MAP', replacement=np.nan, threshold=1, operator='<')\n",
    "\n",
    "df = replace_value(df, 'NIDiasABP', replacement=np.nan, threshold=1, operator='<')\n",
    "\n",
    "df = replace_value(df, 'NISysABP',replacement=np.nan, threshold=1, operator='<')\n",
    "\n",
    "df = replace_value(df, 'NIMAP', replacement=np.nan, threshold=1, operator='<')\n",
    "\n",
    "df = replace_value(df, 'HR', replacement=np.nan, threshold=1, operator='<')\n",
    "df = replace_value(df, 'HR', replacement=np.nan, threshold=299, operator='>')\n",
    "\n",
    "df = replace_value(df, 'PaCO2', replacement=np.nan, threshold=1, operator='<')\n",
    "df = replace_value(df, 'PaCO2', replacement=lambda x: x*10, threshold=10, operator='<')\n",
    "\n",
    "df = replace_value(df, 'PaO2', replacement=np.nan, threshold=1, operator='<')\n",
    "df = replace_value(df, 'PaO2', replacement=lambda x: x*10, threshold=20, operator='<')\n",
    "\n",
    "# the order of these steps matters\n",
    "df = replace_value(df, 'pH', replacement=lambda x: x*10, threshold=0.65, threshold2=0.8, operator='between')\n",
    "df = replace_value(df, 'pH', replacement=lambda x: x*0.1, threshold=65, threshold2=80, operator='between')\n",
    "df = replace_value(df, 'pH', replacement=lambda x: x*0.01, threshold=650, threshold2=800, operator='between')\n",
    "df = replace_value(df, 'pH', replacement=np.nan, threshold=6.5, operator='<')\n",
    "df = replace_value(df, 'pH', replacement=np.nan, threshold=8, operator='>')\n",
    "\n",
    "# convert to farenheit\n",
    "df = replace_value(df, 'Temp', replacement=lambda x: x*9/5+32, threshold=1, threshold2=10, operator='between')\n",
    "df = replace_value(df, 'Temp', replacement=lambda x: (x-32)*5/9, threshold=95, threshold2=113, operator='between')\n",
    "\n",
    "df = replace_value(df, 'Temp', replacement=np.nan, threshold=25, operator='<')\n",
    "df = replace_value(df, 'Temp', replacement=np.nan, threshold=45, operator='>')\n",
    "\n",
    "df = replace_value(df, 'RespRate', replacement=np.nan, threshold=1, operator='<')\n",
    "\n",
    "df = replace_value(df, 'WBC', replacement=np.nan, threshold=1, operator='<')\n",
    "df = replace_value(df, 'WBC', replacement=np.nan, threshold=60, operator='>')\n",
    "\n",
    "df = replace_value(df, 'Urine', replacement=lambda x: x/100, threshold=1000, operator='>')\n",
    "\n",
    "df = replace_value(df, 'ALP', replacement=lambda x: x/10, threshold=500, operator='>')\n",
    "\n",
    "df = replace_value(df, 'ALT', replacement=lambda x: x/100, threshold=200, operator='>')\n",
    "\n",
    "df = replace_value(df, 'AST', replacement=lambda x: x/100, threshold=200, operator='>')\n",
    "\n",
    "df = replace_value(df, 'Glucose', replacement=np.nan, threshold=1000, operator='>')"
   ]
  },
  {
   "cell_type": "code",
   "execution_count": 34,
   "metadata": {},
   "outputs": [
    {
     "name": "stdout",
     "output_type": "stream",
     "text": [
      "DiasABP\n",
      "count    145660.000000\n",
      "mean         59.487581\n",
      "std          12.821004\n",
      "min           1.000000\n",
      "25%          51.000000\n",
      "50%          58.000000\n",
      "75%          67.000000\n",
      "max         196.000000\n",
      "Name: value, dtype: float64\n",
      "GCS\n",
      "count    62566.000000\n",
      "mean        11.441694\n",
      "std          4.009528\n",
      "min          3.000000\n",
      "25%          8.000000\n",
      "50%         14.000000\n",
      "75%         15.000000\n",
      "max         15.000000\n",
      "Name: value, dtype: float64\n",
      "HR\n",
      "count    228585.000000\n",
      "mean         87.545743\n",
      "std          18.704029\n",
      "min          10.000000\n",
      "25%          74.000000\n",
      "50%          86.000000\n",
      "75%          99.000000\n",
      "max         212.000000\n",
      "Name: value, dtype: float64\n",
      "MAP\n",
      "count    146424.000000\n",
      "mean         79.794623\n",
      "std          17.100258\n",
      "min           1.000000\n",
      "25%          69.000000\n",
      "50%          77.000000\n",
      "75%          89.000000\n",
      "max         298.000000\n",
      "Name: value, dtype: float64\n",
      "NIDiasABP\n",
      "count    99170.000000\n",
      "mean        58.771231\n",
      "std         15.404759\n",
      "min          7.000000\n",
      "25%         48.000000\n",
      "50%         57.000000\n",
      "75%         68.000000\n",
      "max        211.000000\n",
      "Name: value, dtype: float64\n",
      "NIMAP\n",
      "count    97853.000000\n",
      "mean        77.675022\n",
      "std         15.613181\n",
      "min          7.000000\n",
      "25%         66.330000\n",
      "50%         76.000000\n",
      "75%         87.330000\n",
      "max        218.000000\n",
      "Name: value, dtype: float64\n",
      "NISysABP\n",
      "count    99238.000000\n",
      "mean       120.191179\n",
      "std         23.107832\n",
      "min          1.000000\n",
      "25%        103.000000\n",
      "50%        118.000000\n",
      "75%        135.000000\n",
      "max        300.000000\n",
      "Name: value, dtype: float64\n",
      "SysABP\n",
      "count    145712.000000\n",
      "mean        119.755930\n",
      "std          24.453094\n",
      "min           1.000000\n",
      "25%         102.000000\n",
      "50%         117.000000\n",
      "75%         135.000000\n",
      "max         285.000000\n",
      "Name: value, dtype: float64\n",
      "Temp\n",
      "count    84494.000000\n",
      "mean        37.066863\n",
      "std          0.869229\n",
      "min         26.100000\n",
      "25%         36.500000\n",
      "50%         37.100000\n",
      "75%         37.600000\n",
      "max         42.200000\n",
      "Name: value, dtype: float64\n",
      "Urine\n",
      "count    137123.000000\n",
      "mean        113.739644\n",
      "std         123.964769\n",
      "min           0.000000\n",
      "25%          38.000000\n",
      "50%          75.000000\n",
      "75%         140.000000\n",
      "max        1000.000000\n",
      "Name: value, dtype: float64\n",
      "Weight\n",
      "count    125437.000000\n",
      "mean         83.513958\n",
      "std          24.429932\n",
      "min           0.000000\n",
      "25%          67.700000\n",
      "50%          80.000000\n",
      "75%          95.000000\n",
      "max         295.000000\n",
      "Name: value, dtype: float64\n",
      "FiO2\n",
      "count    31591.000000\n",
      "mean         0.547568\n",
      "std          0.194915\n",
      "min          0.210000\n",
      "25%          0.400000\n",
      "50%          0.500000\n",
      "75%          0.600000\n",
      "max          1.000000\n",
      "Name: value, dtype: float64\n",
      "MechVent\n",
      "count    30215.0\n",
      "mean         1.0\n",
      "std          0.0\n",
      "min          1.0\n",
      "25%          1.0\n",
      "50%          1.0\n",
      "75%          1.0\n",
      "max          1.0\n",
      "Name: value, dtype: float64\n",
      "pH\n",
      "count    23821.000000\n",
      "mean         7.374677\n",
      "std          0.077942\n",
      "min          6.750000\n",
      "25%          7.330000\n",
      "50%          7.380000\n",
      "75%          7.430000\n",
      "max          7.700000\n",
      "Name: value, dtype: float64\n",
      "PaCO2\n",
      "count    22838.000000\n",
      "mean        40.450696\n",
      "std          9.378278\n",
      "min         10.000000\n",
      "25%         35.000000\n",
      "50%         39.000000\n",
      "75%         44.000000\n",
      "max        100.000000\n",
      "Name: value, dtype: float64\n",
      "PaO2\n",
      "count    22772.000000\n",
      "mean       150.575444\n",
      "std         88.875870\n",
      "min         22.000000\n",
      "25%         90.000000\n",
      "50%        121.500000\n",
      "75%        177.000000\n",
      "max        500.000000\n",
      "Name: value, dtype: float64\n",
      "SaO2\n",
      "count    7592.000000\n",
      "mean       96.699731\n",
      "std         3.478318\n",
      "min         1.060000\n",
      "25%        96.000000\n",
      "50%        98.000000\n",
      "75%        98.000000\n",
      "max       100.000000\n",
      "Name: value, dtype: float64\n",
      "Albumin\n",
      "count    2450.000000\n",
      "mean        2.870612\n",
      "std         0.641120\n",
      "min         1.000000\n",
      "25%         2.400000\n",
      "50%         2.800000\n",
      "75%         3.300000\n",
      "max         5.000000\n",
      "Name: value, dtype: float64\n",
      "ALP\n",
      "count    3209.000000\n",
      "mean      101.486102\n",
      "std        68.880993\n",
      "min        13.000000\n",
      "25%        58.000000\n",
      "50%        79.000000\n",
      "75%       118.000000\n",
      "max       499.000000\n",
      "Name: value, dtype: float64\n",
      "ALT\n",
      "count    3302.000000\n",
      "mean       40.561039\n",
      "std        41.416720\n",
      "min         2.000000\n",
      "25%        13.312500\n",
      "50%        25.975000\n",
      "75%        50.000000\n",
      "max       200.000000\n",
      "Name: value, dtype: float64\n",
      "AST\n",
      "count    3301.000000\n",
      "mean       46.237201\n",
      "std        42.794567\n",
      "min         2.010000\n",
      "25%        16.500000\n",
      "50%        32.000000\n",
      "75%        63.000000\n",
      "max       200.000000\n",
      "Name: value, dtype: float64\n",
      "Bilirubin\n",
      "count    3329.000000\n",
      "mean        2.790117\n",
      "std         5.281901\n",
      "min         0.000000\n",
      "25%         0.500000\n",
      "50%         0.900000\n",
      "75%         2.600000\n",
      "max        59.400000\n",
      "Name: value, dtype: float64\n",
      "BUN\n",
      "count    13891.000000\n",
      "mean        27.281621\n",
      "std         22.380424\n",
      "min          0.000000\n",
      "25%         13.000000\n",
      "50%         20.000000\n",
      "75%         34.000000\n",
      "max        209.000000\n",
      "Name: value, dtype: float64\n",
      "Creatinine\n",
      "count    13959.000000\n",
      "mean         1.435239\n",
      "std          1.446871\n",
      "min          0.100000\n",
      "25%          0.700000\n",
      "50%          1.000000\n",
      "75%          1.500000\n",
      "max         16.000000\n",
      "Name: value, dtype: float64\n",
      "Glucose\n",
      "count    13152.000000\n",
      "mean       140.553224\n",
      "std         60.670397\n",
      "min          8.000000\n",
      "25%        106.000000\n",
      "50%        127.000000\n",
      "75%        159.000000\n",
      "max        924.000000\n",
      "Name: value, dtype: float64\n",
      "HCO3\n",
      "count    13612.000000\n",
      "mean        23.170071\n",
      "std          4.740611\n",
      "min          5.000000\n",
      "25%         20.000000\n",
      "50%         23.000000\n",
      "75%         26.000000\n",
      "max         52.000000\n",
      "Name: value, dtype: float64\n",
      "HCT\n",
      "count    18439.000000\n",
      "mean        30.692874\n",
      "std          5.023458\n",
      "min          5.000000\n",
      "25%         27.400000\n",
      "50%         30.300000\n",
      "75%         33.600000\n",
      "max         56.300000\n",
      "Name: value, dtype: float64\n",
      "Mg\n",
      "count    13725.000000\n",
      "mean         2.020001\n",
      "std          0.479060\n",
      "min          0.000000\n",
      "25%          1.800000\n",
      "50%          2.000000\n",
      "75%          2.200000\n",
      "max         21.000000\n",
      "Name: value, dtype: float64\n",
      "Platelets\n",
      "count    14349.000000\n",
      "mean       188.708969\n",
      "std        109.640488\n",
      "min          5.000000\n",
      "25%        116.000000\n",
      "50%        171.000000\n",
      "75%        237.000000\n",
      "max       2292.000000\n",
      "Name: value, dtype: float64\n",
      "K\n",
      "count    14667.000000\n",
      "mean         4.127374\n",
      "std          0.669505\n",
      "min          1.800000\n",
      "25%          3.700000\n",
      "50%          4.000000\n",
      "75%          4.400000\n",
      "max         19.600000\n",
      "Name: value, dtype: float64\n",
      "Na\n",
      "count    13721.000000\n",
      "mean       139.201224\n",
      "std          5.113461\n",
      "min         99.000000\n",
      "25%        136.000000\n",
      "50%        139.000000\n",
      "75%        142.000000\n",
      "max        174.000000\n",
      "Name: value, dtype: float64\n",
      "WBC\n",
      "count    12943.000000\n",
      "mean        12.567686\n",
      "std          6.605986\n",
      "min          1.000000\n",
      "25%          8.300000\n",
      "50%         11.400000\n",
      "75%         15.300000\n",
      "max         60.000000\n",
      "Name: value, dtype: float64\n",
      "Lactate\n",
      "count    8461.000000\n",
      "mean        3.074894\n",
      "std         2.630634\n",
      "min         0.300000\n",
      "25%         1.400000\n",
      "50%         2.200000\n",
      "75%         3.700000\n",
      "max        31.000000\n",
      "Name: value, dtype: float64\n",
      "Cholesterol\n",
      "count    356.000000\n",
      "mean     155.567416\n",
      "std       42.256673\n",
      "min       35.000000\n",
      "25%      125.000000\n",
      "50%      152.000000\n",
      "75%      180.250000\n",
      "max      360.000000\n",
      "Name: value, dtype: float64\n",
      "RespRate\n",
      "count    56319.000000\n",
      "mean        19.635523\n",
      "std          5.473443\n",
      "min          2.000000\n",
      "25%         16.000000\n",
      "50%         19.000000\n",
      "75%         23.000000\n",
      "max        100.000000\n",
      "Name: value, dtype: float64\n",
      "TroponinT\n",
      "count    2169.000000\n",
      "mean        1.057478\n",
      "std         2.579406\n",
      "min         0.010000\n",
      "25%         0.050000\n",
      "50%         0.180000\n",
      "75%         0.790000\n",
      "max        24.740000\n",
      "Name: value, dtype: float64\n",
      "TroponinI\n",
      "count    376.000000\n",
      "mean       8.870479\n",
      "std       11.494173\n",
      "min        0.300000\n",
      "25%        1.000000\n",
      "50%        3.750000\n",
      "75%       12.225000\n",
      "max       49.600000\n",
      "Name: value, dtype: float64\n"
     ]
    }
   ],
   "source": [
    "#this allows us to quickly look at each variable distribution\n",
    "for element in df['parameter'].unique():\n",
    "    print(element)\n",
    "    print(df.loc[df['parameter']==element,'value'].describe())"
   ]
  },
  {
   "cell_type": "code",
   "execution_count": null,
   "metadata": {},
   "outputs": [],
   "source": []
  },
  {
   "cell_type": "code",
   "execution_count": null,
   "metadata": {},
   "outputs": [],
   "source": []
  },
  {
   "cell_type": "code",
   "execution_count": null,
   "metadata": {},
   "outputs": [],
   "source": []
  },
  {
   "cell_type": "code",
   "execution_count": null,
   "metadata": {},
   "outputs": [],
   "source": []
  },
  {
   "cell_type": "code",
   "execution_count": 35,
   "metadata": {},
   "outputs": [
    {
     "data": {
      "text/html": [
       "<div>\n",
       "<style scoped>\n",
       "    .dataframe tbody tr th:only-of-type {\n",
       "        vertical-align: middle;\n",
       "    }\n",
       "\n",
       "    .dataframe tbody tr th {\n",
       "        vertical-align: top;\n",
       "    }\n",
       "\n",
       "    .dataframe thead th {\n",
       "        text-align: right;\n",
       "    }\n",
       "</style>\n",
       "<table border=\"1\" class=\"dataframe\">\n",
       "  <thead>\n",
       "    <tr style=\"text-align: right;\">\n",
       "      <th></th>\n",
       "      <th>recordid</th>\n",
       "      <th>ALP</th>\n",
       "      <th>ALT</th>\n",
       "      <th>AST</th>\n",
       "      <th>Albumin</th>\n",
       "      <th>BUN</th>\n",
       "      <th>Bilirubin</th>\n",
       "      <th>Cholesterol</th>\n",
       "      <th>Creatinine</th>\n",
       "      <th>DiasABP</th>\n",
       "      <th>...</th>\n",
       "      <th>RespRate</th>\n",
       "      <th>SaO2</th>\n",
       "      <th>SysABP</th>\n",
       "      <th>Temp</th>\n",
       "      <th>TroponinI</th>\n",
       "      <th>TroponinT</th>\n",
       "      <th>Urine</th>\n",
       "      <th>WBC</th>\n",
       "      <th>Weight</th>\n",
       "      <th>pH</th>\n",
       "    </tr>\n",
       "  </thead>\n",
       "  <tbody>\n",
       "    <tr>\n",
       "      <th>0</th>\n",
       "      <td>142675</td>\n",
       "      <td>23.0</td>\n",
       "      <td>99.500</td>\n",
       "      <td>33.3225</td>\n",
       "      <td>2.133333</td>\n",
       "      <td>15.571429</td>\n",
       "      <td>2.04</td>\n",
       "      <td>NaN</td>\n",
       "      <td>1.242857</td>\n",
       "      <td>57.838235</td>\n",
       "      <td>...</td>\n",
       "      <td>NaN</td>\n",
       "      <td>96.727273</td>\n",
       "      <td>118.117647</td>\n",
       "      <td>36.622917</td>\n",
       "      <td>NaN</td>\n",
       "      <td>NaN</td>\n",
       "      <td>239.775962</td>\n",
       "      <td>6.760000</td>\n",
       "      <td>NaN</td>\n",
       "      <td>7.379500</td>\n",
       "    </tr>\n",
       "    <tr>\n",
       "      <th>1</th>\n",
       "      <td>142676</td>\n",
       "      <td>NaN</td>\n",
       "      <td>NaN</td>\n",
       "      <td>NaN</td>\n",
       "      <td>NaN</td>\n",
       "      <td>25.600000</td>\n",
       "      <td>NaN</td>\n",
       "      <td>NaN</td>\n",
       "      <td>0.460000</td>\n",
       "      <td>NaN</td>\n",
       "      <td>...</td>\n",
       "      <td>17.666667</td>\n",
       "      <td>NaN</td>\n",
       "      <td>NaN</td>\n",
       "      <td>36.550000</td>\n",
       "      <td>NaN</td>\n",
       "      <td>NaN</td>\n",
       "      <td>90.482143</td>\n",
       "      <td>18.750000</td>\n",
       "      <td>NaN</td>\n",
       "      <td>NaN</td>\n",
       "    </tr>\n",
       "    <tr>\n",
       "      <th>2</th>\n",
       "      <td>142680</td>\n",
       "      <td>77.0</td>\n",
       "      <td>48.500</td>\n",
       "      <td>27.5000</td>\n",
       "      <td>NaN</td>\n",
       "      <td>22.333333</td>\n",
       "      <td>0.70</td>\n",
       "      <td>NaN</td>\n",
       "      <td>0.733333</td>\n",
       "      <td>58.857143</td>\n",
       "      <td>...</td>\n",
       "      <td>NaN</td>\n",
       "      <td>93.000000</td>\n",
       "      <td>109.642857</td>\n",
       "      <td>37.918182</td>\n",
       "      <td>NaN</td>\n",
       "      <td>NaN</td>\n",
       "      <td>173.793103</td>\n",
       "      <td>14.966667</td>\n",
       "      <td>79.263043</td>\n",
       "      <td>7.401429</td>\n",
       "    </tr>\n",
       "    <tr>\n",
       "      <th>3</th>\n",
       "      <td>142683</td>\n",
       "      <td>44.0</td>\n",
       "      <td>87.965</td>\n",
       "      <td>102.6650</td>\n",
       "      <td>2.300000</td>\n",
       "      <td>14.666667</td>\n",
       "      <td>1.25</td>\n",
       "      <td>NaN</td>\n",
       "      <td>1.233333</td>\n",
       "      <td>57.965517</td>\n",
       "      <td>...</td>\n",
       "      <td>NaN</td>\n",
       "      <td>92.666667</td>\n",
       "      <td>122.017241</td>\n",
       "      <td>37.253488</td>\n",
       "      <td>NaN</td>\n",
       "      <td>NaN</td>\n",
       "      <td>116.200000</td>\n",
       "      <td>20.487500</td>\n",
       "      <td>NaN</td>\n",
       "      <td>7.325000</td>\n",
       "    </tr>\n",
       "    <tr>\n",
       "      <th>4</th>\n",
       "      <td>142688</td>\n",
       "      <td>NaN</td>\n",
       "      <td>NaN</td>\n",
       "      <td>NaN</td>\n",
       "      <td>NaN</td>\n",
       "      <td>19.000000</td>\n",
       "      <td>NaN</td>\n",
       "      <td>NaN</td>\n",
       "      <td>0.800000</td>\n",
       "      <td>58.956522</td>\n",
       "      <td>...</td>\n",
       "      <td>19.162162</td>\n",
       "      <td>NaN</td>\n",
       "      <td>114.956522</td>\n",
       "      <td>37.733333</td>\n",
       "      <td>NaN</td>\n",
       "      <td>NaN</td>\n",
       "      <td>94.333333</td>\n",
       "      <td>14.250000</td>\n",
       "      <td>NaN</td>\n",
       "      <td>7.370000</td>\n",
       "    </tr>\n",
       "  </tbody>\n",
       "</table>\n",
       "<p>5 rows × 38 columns</p>\n",
       "</div>"
      ],
      "text/plain": [
       "   recordid   ALP     ALT       AST   Albumin        BUN  Bilirubin  \\\n",
       "0    142675  23.0  99.500   33.3225  2.133333  15.571429       2.04   \n",
       "1    142676   NaN     NaN       NaN       NaN  25.600000        NaN   \n",
       "2    142680  77.0  48.500   27.5000       NaN  22.333333       0.70   \n",
       "3    142683  44.0  87.965  102.6650  2.300000  14.666667       1.25   \n",
       "4    142688   NaN     NaN       NaN       NaN  19.000000        NaN   \n",
       "\n",
       "   Cholesterol  Creatinine    DiasABP  ...   RespRate       SaO2      SysABP  \\\n",
       "0          NaN    1.242857  57.838235  ...        NaN  96.727273  118.117647   \n",
       "1          NaN    0.460000        NaN  ...  17.666667        NaN         NaN   \n",
       "2          NaN    0.733333  58.857143  ...        NaN  93.000000  109.642857   \n",
       "3          NaN    1.233333  57.965517  ...        NaN  92.666667  122.017241   \n",
       "4          NaN    0.800000  58.956522  ...  19.162162        NaN  114.956522   \n",
       "\n",
       "        Temp  TroponinI  TroponinT       Urine        WBC     Weight        pH  \n",
       "0  36.622917        NaN        NaN  239.775962   6.760000        NaN  7.379500  \n",
       "1  36.550000        NaN        NaN   90.482143  18.750000        NaN       NaN  \n",
       "2  37.918182        NaN        NaN  173.793103  14.966667  79.263043  7.401429  \n",
       "3  37.253488        NaN        NaN  116.200000  20.487500        NaN  7.325000  \n",
       "4  37.733333        NaN        NaN   94.333333  14.250000        NaN  7.370000  \n",
       "\n",
       "[5 rows x 38 columns]"
      ]
     },
     "execution_count": 35,
     "metadata": {},
     "output_type": "execute_result"
    }
   ],
   "source": [
    "### longformat\n",
    "(pd.pivot_table(df, values='value', index='recordid', columns='parameter') #make a pivot table w/ the new index=recordid, the columns= unique values in parameter, and the values = value\n",
    "     .reset_index().rename_axis(None, axis=1) #by default it makes a multilevel index, which is a headache to deal with. this removes the multilevel\n",
    "             .head() #show the first 5 rows of the dataframe\n",
    ") \n"
   ]
  },
  {
   "cell_type": "markdown",
   "metadata": {},
   "source": [
    "since we now know the format, lets see all of the different types of values that are recorded:"
   ]
  },
  {
   "cell_type": "code",
   "execution_count": 36,
   "metadata": {},
   "outputs": [
    {
     "data": {
      "text/plain": [
       "array(['DiasABP', 'GCS', 'HR', 'MAP', 'NIDiasABP', 'NIMAP', 'NISysABP',\n",
       "       'SysABP', 'Temp', 'Urine', 'Weight', 'FiO2', 'MechVent', 'pH',\n",
       "       'PaCO2', 'PaO2', 'SaO2', 'Albumin', 'ALP', 'ALT', 'AST',\n",
       "       'Bilirubin', 'BUN', 'Creatinine', 'Glucose', 'HCO3', 'HCT', 'Mg',\n",
       "       'Platelets', 'K', 'Na', 'WBC', 'Lactate', 'Cholesterol',\n",
       "       'RespRate', 'TroponinT', 'TroponinI'], dtype=object)"
      ]
     },
     "execution_count": 36,
     "metadata": {},
     "output_type": "execute_result"
    }
   ],
   "source": [
    "df['parameter'].unique() #useful function to get an array of all unique values in a list"
   ]
  },
  {
   "cell_type": "markdown",
   "metadata": {},
   "source": [
    "it looks like there are both static (RecordId, Age, Gender, Height, ICUType, Weight) & longitudinal values in this dataframe"
   ]
  },
  {
   "cell_type": "code",
   "execution_count": null,
   "metadata": {},
   "outputs": [],
   "source": []
  },
  {
   "cell_type": "code",
   "execution_count": null,
   "metadata": {},
   "outputs": [],
   "source": []
  },
  {
   "cell_type": "code",
   "execution_count": null,
   "metadata": {},
   "outputs": [],
   "source": []
  },
  {
   "cell_type": "code",
   "execution_count": null,
   "metadata": {},
   "outputs": [],
   "source": []
  },
  {
   "cell_type": "code",
   "execution_count": null,
   "metadata": {},
   "outputs": [],
   "source": []
  },
  {
   "cell_type": "code",
   "execution_count": null,
   "metadata": {},
   "outputs": [],
   "source": []
  },
  {
   "cell_type": "code",
   "execution_count": null,
   "metadata": {},
   "outputs": [],
   "source": []
  },
  {
   "cell_type": "code",
   "execution_count": null,
   "metadata": {},
   "outputs": [],
   "source": []
  },
  {
   "cell_type": "markdown",
   "metadata": {},
   "source": [
    "## ensure numerical looking data is in a 'numerical' (int, float, double, etc) format\n",
    "\n",
    "### concept: apply and map functions.\n",
    "* Map: It ITERATES OVER EACH ELEMENT of a series.\n",
    "  * df['column1'].map(lambda x: 10+x), this will add 10 to each element of column1. ...\n",
    "* Apply: As the name suggests, applies a function ALONG AN AXIS (rows or cols) of the DataFrame. \n",
    "  * df[[‘column1’,’column2’]].apply(sum), it will returns the sum of all the values of column1 and column2.\n",
    "  * axis=0: row index;  axis=1: col index"
   ]
  },
  {
   "cell_type": "code",
   "execution_count": 37,
   "metadata": {},
   "outputs": [],
   "source": [
    "#df_static= df_static.apply(pd.to_numeric, axis=1) #note we have to assign the df_static to the applyed dataframe, otherwise the dataframe is not changed. "
   ]
  },
  {
   "cell_type": "code",
   "execution_count": null,
   "metadata": {},
   "outputs": [],
   "source": []
  },
  {
   "cell_type": "code",
   "execution_count": null,
   "metadata": {},
   "outputs": [],
   "source": []
  },
  {
   "cell_type": "markdown",
   "metadata": {},
   "source": [
    "# datacleaning complete, now on to preprocessing"
   ]
  },
  {
   "cell_type": "markdown",
   "metadata": {},
   "source": [
    "-------\n",
    "# Preprocessing\n",
    "-------"
   ]
  },
  {
   "cell_type": "markdown",
   "metadata": {},
   "source": [
    "## Create a design matrix X for modeling.\n",
    "1. aggregate all longitudinal variables using the desired aggregation functions. \n",
    "1. reformat df_static from long to wide, call this X\n",
    "1. clean up format by dropping RecordID, ICUType, and reformat ICUtype into a categorical variable.\n",
    "1. merge all aggregated longitudinal data onto X.\n",
    "1. attach outcomes to X\n",
    "1. train/test split\n",
    "    * (optional) sample to reduce effect of class imballance\n",
    "1. standardize and scale values (encouraged)\n",
    "1. impute missing/null values\n",
    "1. finalize matrix for modeling"
   ]
  },
  {
   "cell_type": "markdown",
   "metadata": {},
   "source": [
    "1. **aggregate all longitudinal variables using the desired aggregation functions :**"
   ]
  },
  {
   "cell_type": "code",
   "execution_count": 38,
   "metadata": {},
   "outputs": [],
   "source": [
    "def aggregate_and_pivot(df,aggregation='mean'):\n",
    "    \"\"\"returns a dataframe where the columns are each type of vital measurement, with 1 row for each hadm_id and the values are aggregated according to the specified aggregate function. \n",
    "\n",
    "    Keyword arguments:\n",
    "    vitals_df -- the cleaned up vitals dataframe (dtype='dataframe', required)\n",
    "    aggregation -- string specifying the desired aggregation function ('mean', 'max', 'std'). (dtype='str', default='mean')\n",
    "    \"\"\"\n",
    "    \n",
    "    pivot_df=pd.DataFrame()\n",
    "    \n",
    "    ###aggregating all values for each hadm_id and vitalid\n",
    "    if aggregation=='mean':\n",
    "        group_agg=df.groupby(['recordid','parameter'])['value'].mean()\n",
    "        \n",
    "    elif aggregation=='max':\n",
    "        group_agg=df.groupby(['recordid','parameter'])['value'].max()\n",
    "        \n",
    "    elif aggregation=='std':\n",
    "        group_agg=df.groupby(['recordid','parameter'])['value'].std()\n",
    "    \n",
    "    else:\n",
    "        pass\n",
    "    \n",
    "    ### making a pivot table off aggregated groupby\n",
    "    pivot_df=pd.pivot_table(pd.DataFrame(group_agg),\n",
    "                            values='value',\n",
    "                            index=['recordid'],\n",
    "                            columns=['parameter']).reset_index()\n",
    "\n",
    "    adjusted_cols=[x+'_{}'.format(aggregation) for x in list(pivot_df)]\n",
    "\n",
    "    #renaming columns to have _max after them\n",
    "    pivot_df.columns= adjusted_cols\n",
    "    #renaming the hadm id back to how it was origionally\n",
    "    pivot_df.rename(index=str, columns={'recordid_{}'.format(aggregation):'recordid'}, inplace=True)\n",
    "    pivot_df.set_index('recordid', inplace=True)\n",
    "    return(pivot_df)"
   ]
  },
  {
   "cell_type": "markdown",
   "metadata": {},
   "source": [
    "### note: for a better model, it makes more clinical sense to use the aggregation(s) that make most sense for each column, rather than just mean/std. "
   ]
  },
  {
   "cell_type": "code",
   "execution_count": 39,
   "metadata": {},
   "outputs": [
    {
     "data": {
      "text/html": [
       "<div>\n",
       "<style scoped>\n",
       "    .dataframe tbody tr th:only-of-type {\n",
       "        vertical-align: middle;\n",
       "    }\n",
       "\n",
       "    .dataframe tbody tr th {\n",
       "        vertical-align: top;\n",
       "    }\n",
       "\n",
       "    .dataframe thead th {\n",
       "        text-align: right;\n",
       "    }\n",
       "</style>\n",
       "<table border=\"1\" class=\"dataframe\">\n",
       "  <thead>\n",
       "    <tr style=\"text-align: right;\">\n",
       "      <th></th>\n",
       "      <th>ALP_mean</th>\n",
       "      <th>ALT_mean</th>\n",
       "      <th>AST_mean</th>\n",
       "      <th>Albumin_mean</th>\n",
       "      <th>BUN_mean</th>\n",
       "      <th>Bilirubin_mean</th>\n",
       "      <th>Cholesterol_mean</th>\n",
       "      <th>Creatinine_mean</th>\n",
       "      <th>DiasABP_mean</th>\n",
       "      <th>FiO2_mean</th>\n",
       "      <th>...</th>\n",
       "      <th>RespRate_mean</th>\n",
       "      <th>SaO2_mean</th>\n",
       "      <th>SysABP_mean</th>\n",
       "      <th>Temp_mean</th>\n",
       "      <th>TroponinI_mean</th>\n",
       "      <th>TroponinT_mean</th>\n",
       "      <th>Urine_mean</th>\n",
       "      <th>WBC_mean</th>\n",
       "      <th>Weight_mean</th>\n",
       "      <th>pH_mean</th>\n",
       "    </tr>\n",
       "    <tr>\n",
       "      <th>recordid</th>\n",
       "      <th></th>\n",
       "      <th></th>\n",
       "      <th></th>\n",
       "      <th></th>\n",
       "      <th></th>\n",
       "      <th></th>\n",
       "      <th></th>\n",
       "      <th></th>\n",
       "      <th></th>\n",
       "      <th></th>\n",
       "      <th></th>\n",
       "      <th></th>\n",
       "      <th></th>\n",
       "      <th></th>\n",
       "      <th></th>\n",
       "      <th></th>\n",
       "      <th></th>\n",
       "      <th></th>\n",
       "      <th></th>\n",
       "      <th></th>\n",
       "      <th></th>\n",
       "    </tr>\n",
       "  </thead>\n",
       "  <tbody>\n",
       "    <tr>\n",
       "      <th>142675</th>\n",
       "      <td>23.0</td>\n",
       "      <td>99.500</td>\n",
       "      <td>33.3225</td>\n",
       "      <td>2.133333</td>\n",
       "      <td>15.571429</td>\n",
       "      <td>2.04</td>\n",
       "      <td>NaN</td>\n",
       "      <td>1.242857</td>\n",
       "      <td>57.838235</td>\n",
       "      <td>0.846154</td>\n",
       "      <td>...</td>\n",
       "      <td>NaN</td>\n",
       "      <td>96.727273</td>\n",
       "      <td>118.117647</td>\n",
       "      <td>36.622917</td>\n",
       "      <td>NaN</td>\n",
       "      <td>NaN</td>\n",
       "      <td>239.775962</td>\n",
       "      <td>6.760000</td>\n",
       "      <td>NaN</td>\n",
       "      <td>7.379500</td>\n",
       "    </tr>\n",
       "    <tr>\n",
       "      <th>142676</th>\n",
       "      <td>NaN</td>\n",
       "      <td>NaN</td>\n",
       "      <td>NaN</td>\n",
       "      <td>NaN</td>\n",
       "      <td>25.600000</td>\n",
       "      <td>NaN</td>\n",
       "      <td>NaN</td>\n",
       "      <td>0.460000</td>\n",
       "      <td>NaN</td>\n",
       "      <td>NaN</td>\n",
       "      <td>...</td>\n",
       "      <td>17.666667</td>\n",
       "      <td>NaN</td>\n",
       "      <td>NaN</td>\n",
       "      <td>36.550000</td>\n",
       "      <td>NaN</td>\n",
       "      <td>NaN</td>\n",
       "      <td>90.482143</td>\n",
       "      <td>18.750000</td>\n",
       "      <td>NaN</td>\n",
       "      <td>NaN</td>\n",
       "    </tr>\n",
       "    <tr>\n",
       "      <th>142680</th>\n",
       "      <td>77.0</td>\n",
       "      <td>48.500</td>\n",
       "      <td>27.5000</td>\n",
       "      <td>NaN</td>\n",
       "      <td>22.333333</td>\n",
       "      <td>0.70</td>\n",
       "      <td>NaN</td>\n",
       "      <td>0.733333</td>\n",
       "      <td>58.857143</td>\n",
       "      <td>0.605000</td>\n",
       "      <td>...</td>\n",
       "      <td>NaN</td>\n",
       "      <td>93.000000</td>\n",
       "      <td>109.642857</td>\n",
       "      <td>37.918182</td>\n",
       "      <td>NaN</td>\n",
       "      <td>NaN</td>\n",
       "      <td>173.793103</td>\n",
       "      <td>14.966667</td>\n",
       "      <td>79.263043</td>\n",
       "      <td>7.401429</td>\n",
       "    </tr>\n",
       "    <tr>\n",
       "      <th>142683</th>\n",
       "      <td>44.0</td>\n",
       "      <td>87.965</td>\n",
       "      <td>102.6650</td>\n",
       "      <td>2.300000</td>\n",
       "      <td>14.666667</td>\n",
       "      <td>1.25</td>\n",
       "      <td>NaN</td>\n",
       "      <td>1.233333</td>\n",
       "      <td>57.965517</td>\n",
       "      <td>0.796154</td>\n",
       "      <td>...</td>\n",
       "      <td>NaN</td>\n",
       "      <td>92.666667</td>\n",
       "      <td>122.017241</td>\n",
       "      <td>37.253488</td>\n",
       "      <td>NaN</td>\n",
       "      <td>NaN</td>\n",
       "      <td>116.200000</td>\n",
       "      <td>20.487500</td>\n",
       "      <td>NaN</td>\n",
       "      <td>7.325000</td>\n",
       "    </tr>\n",
       "    <tr>\n",
       "      <th>142688</th>\n",
       "      <td>NaN</td>\n",
       "      <td>NaN</td>\n",
       "      <td>NaN</td>\n",
       "      <td>NaN</td>\n",
       "      <td>19.000000</td>\n",
       "      <td>NaN</td>\n",
       "      <td>NaN</td>\n",
       "      <td>0.800000</td>\n",
       "      <td>58.956522</td>\n",
       "      <td>0.685714</td>\n",
       "      <td>...</td>\n",
       "      <td>19.162162</td>\n",
       "      <td>NaN</td>\n",
       "      <td>114.956522</td>\n",
       "      <td>37.733333</td>\n",
       "      <td>NaN</td>\n",
       "      <td>NaN</td>\n",
       "      <td>94.333333</td>\n",
       "      <td>14.250000</td>\n",
       "      <td>NaN</td>\n",
       "      <td>7.370000</td>\n",
       "    </tr>\n",
       "  </tbody>\n",
       "</table>\n",
       "<p>5 rows × 37 columns</p>\n",
       "</div>"
      ],
      "text/plain": [
       "          ALP_mean  ALT_mean  AST_mean  Albumin_mean   BUN_mean  \\\n",
       "recordid                                                          \n",
       "142675        23.0    99.500   33.3225      2.133333  15.571429   \n",
       "142676         NaN       NaN       NaN           NaN  25.600000   \n",
       "142680        77.0    48.500   27.5000           NaN  22.333333   \n",
       "142683        44.0    87.965  102.6650      2.300000  14.666667   \n",
       "142688         NaN       NaN       NaN           NaN  19.000000   \n",
       "\n",
       "          Bilirubin_mean  Cholesterol_mean  Creatinine_mean  DiasABP_mean  \\\n",
       "recordid                                                                    \n",
       "142675              2.04               NaN         1.242857     57.838235   \n",
       "142676               NaN               NaN         0.460000           NaN   \n",
       "142680              0.70               NaN         0.733333     58.857143   \n",
       "142683              1.25               NaN         1.233333     57.965517   \n",
       "142688               NaN               NaN         0.800000     58.956522   \n",
       "\n",
       "          FiO2_mean  ...  RespRate_mean  SaO2_mean  SysABP_mean  Temp_mean  \\\n",
       "recordid             ...                                                     \n",
       "142675     0.846154  ...            NaN  96.727273   118.117647  36.622917   \n",
       "142676          NaN  ...      17.666667        NaN          NaN  36.550000   \n",
       "142680     0.605000  ...            NaN  93.000000   109.642857  37.918182   \n",
       "142683     0.796154  ...            NaN  92.666667   122.017241  37.253488   \n",
       "142688     0.685714  ...      19.162162        NaN   114.956522  37.733333   \n",
       "\n",
       "          TroponinI_mean  TroponinT_mean  Urine_mean   WBC_mean  Weight_mean  \\\n",
       "recordid                                                                       \n",
       "142675               NaN             NaN  239.775962   6.760000          NaN   \n",
       "142676               NaN             NaN   90.482143  18.750000          NaN   \n",
       "142680               NaN             NaN  173.793103  14.966667    79.263043   \n",
       "142683               NaN             NaN  116.200000  20.487500          NaN   \n",
       "142688               NaN             NaN   94.333333  14.250000          NaN   \n",
       "\n",
       "           pH_mean  \n",
       "recordid            \n",
       "142675    7.379500  \n",
       "142676         NaN  \n",
       "142680    7.401429  \n",
       "142683    7.325000  \n",
       "142688    7.370000  \n",
       "\n",
       "[5 rows x 37 columns]"
      ]
     },
     "execution_count": 39,
     "metadata": {},
     "output_type": "execute_result"
    }
   ],
   "source": [
    "mean_df= aggregate_and_pivot(df,'mean')\n",
    "mean_df.head()"
   ]
  },
  {
   "cell_type": "code",
   "execution_count": 40,
   "metadata": {},
   "outputs": [
    {
     "data": {
      "text/html": [
       "<div>\n",
       "<style scoped>\n",
       "    .dataframe tbody tr th:only-of-type {\n",
       "        vertical-align: middle;\n",
       "    }\n",
       "\n",
       "    .dataframe tbody tr th {\n",
       "        vertical-align: top;\n",
       "    }\n",
       "\n",
       "    .dataframe thead th {\n",
       "        text-align: right;\n",
       "    }\n",
       "</style>\n",
       "<table border=\"1\" class=\"dataframe\">\n",
       "  <thead>\n",
       "    <tr style=\"text-align: right;\">\n",
       "      <th></th>\n",
       "      <th>ALP_std</th>\n",
       "      <th>ALT_std</th>\n",
       "      <th>AST_std</th>\n",
       "      <th>Albumin_std</th>\n",
       "      <th>BUN_std</th>\n",
       "      <th>Bilirubin_std</th>\n",
       "      <th>Cholesterol_std</th>\n",
       "      <th>Creatinine_std</th>\n",
       "      <th>DiasABP_std</th>\n",
       "      <th>FiO2_std</th>\n",
       "      <th>...</th>\n",
       "      <th>RespRate_std</th>\n",
       "      <th>SaO2_std</th>\n",
       "      <th>SysABP_std</th>\n",
       "      <th>Temp_std</th>\n",
       "      <th>TroponinI_std</th>\n",
       "      <th>TroponinT_std</th>\n",
       "      <th>Urine_std</th>\n",
       "      <th>WBC_std</th>\n",
       "      <th>Weight_std</th>\n",
       "      <th>pH_std</th>\n",
       "    </tr>\n",
       "    <tr>\n",
       "      <th>recordid</th>\n",
       "      <th></th>\n",
       "      <th></th>\n",
       "      <th></th>\n",
       "      <th></th>\n",
       "      <th></th>\n",
       "      <th></th>\n",
       "      <th></th>\n",
       "      <th></th>\n",
       "      <th></th>\n",
       "      <th></th>\n",
       "      <th></th>\n",
       "      <th></th>\n",
       "      <th></th>\n",
       "      <th></th>\n",
       "      <th></th>\n",
       "      <th></th>\n",
       "      <th></th>\n",
       "      <th></th>\n",
       "      <th></th>\n",
       "      <th></th>\n",
       "      <th></th>\n",
       "    </tr>\n",
       "  </thead>\n",
       "  <tbody>\n",
       "    <tr>\n",
       "      <th>142675</th>\n",
       "      <td>3.391165</td>\n",
       "      <td>41.805103</td>\n",
       "      <td>48.484552</td>\n",
       "      <td>0.513160</td>\n",
       "      <td>5.126960</td>\n",
       "      <td>0.753658</td>\n",
       "      <td>NaN</td>\n",
       "      <td>0.525538</td>\n",
       "      <td>12.895227</td>\n",
       "      <td>0.240192</td>\n",
       "      <td>...</td>\n",
       "      <td>NaN</td>\n",
       "      <td>3.258555</td>\n",
       "      <td>21.826678</td>\n",
       "      <td>1.016234</td>\n",
       "      <td>NaN</td>\n",
       "      <td>NaN</td>\n",
       "      <td>115.334737</td>\n",
       "      <td>1.226739</td>\n",
       "      <td>NaN</td>\n",
       "      <td>0.067404</td>\n",
       "    </tr>\n",
       "    <tr>\n",
       "      <th>142676</th>\n",
       "      <td>NaN</td>\n",
       "      <td>NaN</td>\n",
       "      <td>NaN</td>\n",
       "      <td>NaN</td>\n",
       "      <td>9.607289</td>\n",
       "      <td>NaN</td>\n",
       "      <td>NaN</td>\n",
       "      <td>0.151658</td>\n",
       "      <td>NaN</td>\n",
       "      <td>NaN</td>\n",
       "      <td>...</td>\n",
       "      <td>4.012392</td>\n",
       "      <td>NaN</td>\n",
       "      <td>NaN</td>\n",
       "      <td>0.835029</td>\n",
       "      <td>NaN</td>\n",
       "      <td>NaN</td>\n",
       "      <td>91.638933</td>\n",
       "      <td>5.161880</td>\n",
       "      <td>NaN</td>\n",
       "      <td>NaN</td>\n",
       "    </tr>\n",
       "    <tr>\n",
       "      <th>142680</th>\n",
       "      <td>0.000000</td>\n",
       "      <td>6.363961</td>\n",
       "      <td>2.121320</td>\n",
       "      <td>NaN</td>\n",
       "      <td>1.154701</td>\n",
       "      <td>0.000000</td>\n",
       "      <td>NaN</td>\n",
       "      <td>0.057735</td>\n",
       "      <td>11.141448</td>\n",
       "      <td>0.153811</td>\n",
       "      <td>...</td>\n",
       "      <td>NaN</td>\n",
       "      <td>NaN</td>\n",
       "      <td>15.385343</td>\n",
       "      <td>1.025493</td>\n",
       "      <td>NaN</td>\n",
       "      <td>NaN</td>\n",
       "      <td>151.584813</td>\n",
       "      <td>2.433790</td>\n",
       "      <td>0.312238</td>\n",
       "      <td>0.070812</td>\n",
       "    </tr>\n",
       "    <tr>\n",
       "      <th>142683</th>\n",
       "      <td>7.071068</td>\n",
       "      <td>101.872874</td>\n",
       "      <td>117.853487</td>\n",
       "      <td>0.989949</td>\n",
       "      <td>4.041452</td>\n",
       "      <td>0.777817</td>\n",
       "      <td>NaN</td>\n",
       "      <td>0.288675</td>\n",
       "      <td>10.700001</td>\n",
       "      <td>0.171345</td>\n",
       "      <td>...</td>\n",
       "      <td>NaN</td>\n",
       "      <td>3.141125</td>\n",
       "      <td>19.276830</td>\n",
       "      <td>0.349386</td>\n",
       "      <td>NaN</td>\n",
       "      <td>NaN</td>\n",
       "      <td>138.287678</td>\n",
       "      <td>2.579832</td>\n",
       "      <td>NaN</td>\n",
       "      <td>0.073249</td>\n",
       "    </tr>\n",
       "    <tr>\n",
       "      <th>142688</th>\n",
       "      <td>NaN</td>\n",
       "      <td>NaN</td>\n",
       "      <td>NaN</td>\n",
       "      <td>NaN</td>\n",
       "      <td>0.000000</td>\n",
       "      <td>NaN</td>\n",
       "      <td>NaN</td>\n",
       "      <td>0.141421</td>\n",
       "      <td>5.439571</td>\n",
       "      <td>0.167616</td>\n",
       "      <td>...</td>\n",
       "      <td>3.515944</td>\n",
       "      <td>NaN</td>\n",
       "      <td>9.202165</td>\n",
       "      <td>0.572607</td>\n",
       "      <td>NaN</td>\n",
       "      <td>NaN</td>\n",
       "      <td>51.557356</td>\n",
       "      <td>2.474874</td>\n",
       "      <td>NaN</td>\n",
       "      <td>NaN</td>\n",
       "    </tr>\n",
       "  </tbody>\n",
       "</table>\n",
       "<p>5 rows × 37 columns</p>\n",
       "</div>"
      ],
      "text/plain": [
       "           ALP_std     ALT_std     AST_std  Albumin_std   BUN_std  \\\n",
       "recordid                                                            \n",
       "142675    3.391165   41.805103   48.484552     0.513160  5.126960   \n",
       "142676         NaN         NaN         NaN          NaN  9.607289   \n",
       "142680    0.000000    6.363961    2.121320          NaN  1.154701   \n",
       "142683    7.071068  101.872874  117.853487     0.989949  4.041452   \n",
       "142688         NaN         NaN         NaN          NaN  0.000000   \n",
       "\n",
       "          Bilirubin_std  Cholesterol_std  Creatinine_std  DiasABP_std  \\\n",
       "recordid                                                                \n",
       "142675         0.753658              NaN        0.525538    12.895227   \n",
       "142676              NaN              NaN        0.151658          NaN   \n",
       "142680         0.000000              NaN        0.057735    11.141448   \n",
       "142683         0.777817              NaN        0.288675    10.700001   \n",
       "142688              NaN              NaN        0.141421     5.439571   \n",
       "\n",
       "          FiO2_std  ...  RespRate_std  SaO2_std  SysABP_std  Temp_std  \\\n",
       "recordid            ...                                                 \n",
       "142675    0.240192  ...           NaN  3.258555   21.826678  1.016234   \n",
       "142676         NaN  ...      4.012392       NaN         NaN  0.835029   \n",
       "142680    0.153811  ...           NaN       NaN   15.385343  1.025493   \n",
       "142683    0.171345  ...           NaN  3.141125   19.276830  0.349386   \n",
       "142688    0.167616  ...      3.515944       NaN    9.202165  0.572607   \n",
       "\n",
       "          TroponinI_std  TroponinT_std   Urine_std   WBC_std  Weight_std  \\\n",
       "recordid                                                                   \n",
       "142675              NaN            NaN  115.334737  1.226739         NaN   \n",
       "142676              NaN            NaN   91.638933  5.161880         NaN   \n",
       "142680              NaN            NaN  151.584813  2.433790    0.312238   \n",
       "142683              NaN            NaN  138.287678  2.579832         NaN   \n",
       "142688              NaN            NaN   51.557356  2.474874         NaN   \n",
       "\n",
       "            pH_std  \n",
       "recordid            \n",
       "142675    0.067404  \n",
       "142676         NaN  \n",
       "142680    0.070812  \n",
       "142683    0.073249  \n",
       "142688         NaN  \n",
       "\n",
       "[5 rows x 37 columns]"
      ]
     },
     "execution_count": 40,
     "metadata": {},
     "output_type": "execute_result"
    }
   ],
   "source": [
    "std_df= aggregate_and_pivot(df,'std')\n",
    "std_df.head()"
   ]
  },
  {
   "cell_type": "markdown",
   "metadata": {},
   "source": [
    "2. **reformat df_static from long to wide, call this X**:"
   ]
  },
  {
   "cell_type": "code",
   "execution_count": 41,
   "metadata": {},
   "outputs": [],
   "source": [
    "# reformat df_static from long to wide, call this X\n",
    "X = df_static.pivot(index='recordid', columns='parameter', values='value').copy() # pivot on parameter so there is one column per parameter\n",
    "X.drop('RecordID', axis=1, inplace=True)"
   ]
  },
  {
   "cell_type": "markdown",
   "metadata": {},
   "source": [
    "3. **clean up format by dropping RecordID, ICUType, and reformat ICUtype into a categorical variable.**:"
   ]
  },
  {
   "cell_type": "code",
   "execution_count": 42,
   "metadata": {},
   "outputs": [],
   "source": [
    "### MICU is ICUType==3, and is used as the reference category\n",
    "X['CCU'] = (X['ICUType'] == 1).astype(int)\n",
    "X['CSRU'] = (X['ICUType'] == 2).astype(int)\n",
    "X['SICU'] = (X['ICUType'] == 4).astype(int)\n",
    "X.drop('ICUType', axis=1, inplace=True)"
   ]
  },
  {
   "cell_type": "markdown",
   "metadata": {},
   "source": [
    "4. **merging the static data with mean and std aggregations**:"
   ]
  },
  {
   "cell_type": "code",
   "execution_count": 43,
   "metadata": {},
   "outputs": [],
   "source": [
    "X= pd.merge(X, mean_df, left_index=True, right_index=True)\n",
    "X= pd.merge(X, std_df, left_index=True, right_index=True)"
   ]
  },
  {
   "cell_type": "code",
   "execution_count": 44,
   "metadata": {},
   "outputs": [
    {
     "data": {
      "text/html": [
       "<div>\n",
       "<style scoped>\n",
       "    .dataframe tbody tr th:only-of-type {\n",
       "        vertical-align: middle;\n",
       "    }\n",
       "\n",
       "    .dataframe tbody tr th {\n",
       "        vertical-align: top;\n",
       "    }\n",
       "\n",
       "    .dataframe thead th {\n",
       "        text-align: right;\n",
       "    }\n",
       "</style>\n",
       "<table border=\"1\" class=\"dataframe\">\n",
       "  <thead>\n",
       "    <tr style=\"text-align: right;\">\n",
       "      <th></th>\n",
       "      <th>Age</th>\n",
       "      <th>Gender</th>\n",
       "      <th>Height</th>\n",
       "      <th>Weight</th>\n",
       "      <th>CCU</th>\n",
       "      <th>CSRU</th>\n",
       "      <th>SICU</th>\n",
       "      <th>ALP_mean</th>\n",
       "      <th>ALT_mean</th>\n",
       "      <th>AST_mean</th>\n",
       "      <th>...</th>\n",
       "      <th>RespRate_std</th>\n",
       "      <th>SaO2_std</th>\n",
       "      <th>SysABP_std</th>\n",
       "      <th>Temp_std</th>\n",
       "      <th>TroponinI_std</th>\n",
       "      <th>TroponinT_std</th>\n",
       "      <th>Urine_std</th>\n",
       "      <th>WBC_std</th>\n",
       "      <th>Weight_std</th>\n",
       "      <th>pH_std</th>\n",
       "    </tr>\n",
       "    <tr>\n",
       "      <th>recordid</th>\n",
       "      <th></th>\n",
       "      <th></th>\n",
       "      <th></th>\n",
       "      <th></th>\n",
       "      <th></th>\n",
       "      <th></th>\n",
       "      <th></th>\n",
       "      <th></th>\n",
       "      <th></th>\n",
       "      <th></th>\n",
       "      <th></th>\n",
       "      <th></th>\n",
       "      <th></th>\n",
       "      <th></th>\n",
       "      <th></th>\n",
       "      <th></th>\n",
       "      <th></th>\n",
       "      <th></th>\n",
       "      <th></th>\n",
       "      <th></th>\n",
       "      <th></th>\n",
       "    </tr>\n",
       "  </thead>\n",
       "  <tbody>\n",
       "    <tr>\n",
       "      <th>142675</th>\n",
       "      <td>70.0</td>\n",
       "      <td>1.0</td>\n",
       "      <td>175.3</td>\n",
       "      <td>85.0</td>\n",
       "      <td>0</td>\n",
       "      <td>1</td>\n",
       "      <td>0</td>\n",
       "      <td>23.0</td>\n",
       "      <td>99.500</td>\n",
       "      <td>33.3225</td>\n",
       "      <td>...</td>\n",
       "      <td>NaN</td>\n",
       "      <td>3.258555</td>\n",
       "      <td>21.826678</td>\n",
       "      <td>1.016234</td>\n",
       "      <td>NaN</td>\n",
       "      <td>NaN</td>\n",
       "      <td>115.334737</td>\n",
       "      <td>1.226739</td>\n",
       "      <td>NaN</td>\n",
       "      <td>0.067404</td>\n",
       "    </tr>\n",
       "    <tr>\n",
       "      <th>142676</th>\n",
       "      <td>57.0</td>\n",
       "      <td>0.0</td>\n",
       "      <td>NaN</td>\n",
       "      <td>NaN</td>\n",
       "      <td>0</td>\n",
       "      <td>0</td>\n",
       "      <td>0</td>\n",
       "      <td>NaN</td>\n",
       "      <td>NaN</td>\n",
       "      <td>NaN</td>\n",
       "      <td>...</td>\n",
       "      <td>4.012392</td>\n",
       "      <td>NaN</td>\n",
       "      <td>NaN</td>\n",
       "      <td>0.835029</td>\n",
       "      <td>NaN</td>\n",
       "      <td>NaN</td>\n",
       "      <td>91.638933</td>\n",
       "      <td>5.161880</td>\n",
       "      <td>NaN</td>\n",
       "      <td>NaN</td>\n",
       "    </tr>\n",
       "    <tr>\n",
       "      <th>142680</th>\n",
       "      <td>60.0</td>\n",
       "      <td>1.0</td>\n",
       "      <td>182.9</td>\n",
       "      <td>78.8</td>\n",
       "      <td>0</td>\n",
       "      <td>0</td>\n",
       "      <td>0</td>\n",
       "      <td>77.0</td>\n",
       "      <td>48.500</td>\n",
       "      <td>27.5000</td>\n",
       "      <td>...</td>\n",
       "      <td>NaN</td>\n",
       "      <td>NaN</td>\n",
       "      <td>15.385343</td>\n",
       "      <td>1.025493</td>\n",
       "      <td>NaN</td>\n",
       "      <td>NaN</td>\n",
       "      <td>151.584813</td>\n",
       "      <td>2.433790</td>\n",
       "      <td>0.312238</td>\n",
       "      <td>0.070812</td>\n",
       "    </tr>\n",
       "    <tr>\n",
       "      <th>142683</th>\n",
       "      <td>64.0</td>\n",
       "      <td>1.0</td>\n",
       "      <td>180.3</td>\n",
       "      <td>145.2</td>\n",
       "      <td>0</td>\n",
       "      <td>1</td>\n",
       "      <td>0</td>\n",
       "      <td>44.0</td>\n",
       "      <td>87.965</td>\n",
       "      <td>102.6650</td>\n",
       "      <td>...</td>\n",
       "      <td>NaN</td>\n",
       "      <td>3.141125</td>\n",
       "      <td>19.276830</td>\n",
       "      <td>0.349386</td>\n",
       "      <td>NaN</td>\n",
       "      <td>NaN</td>\n",
       "      <td>138.287678</td>\n",
       "      <td>2.579832</td>\n",
       "      <td>NaN</td>\n",
       "      <td>0.073249</td>\n",
       "    </tr>\n",
       "    <tr>\n",
       "      <th>142688</th>\n",
       "      <td>51.0</td>\n",
       "      <td>1.0</td>\n",
       "      <td>172.7</td>\n",
       "      <td>90.0</td>\n",
       "      <td>0</td>\n",
       "      <td>0</td>\n",
       "      <td>1</td>\n",
       "      <td>NaN</td>\n",
       "      <td>NaN</td>\n",
       "      <td>NaN</td>\n",
       "      <td>...</td>\n",
       "      <td>3.515944</td>\n",
       "      <td>NaN</td>\n",
       "      <td>9.202165</td>\n",
       "      <td>0.572607</td>\n",
       "      <td>NaN</td>\n",
       "      <td>NaN</td>\n",
       "      <td>51.557356</td>\n",
       "      <td>2.474874</td>\n",
       "      <td>NaN</td>\n",
       "      <td>NaN</td>\n",
       "    </tr>\n",
       "  </tbody>\n",
       "</table>\n",
       "<p>5 rows × 81 columns</p>\n",
       "</div>"
      ],
      "text/plain": [
       "           Age  Gender  Height  Weight  CCU  CSRU  SICU  ALP_mean  ALT_mean  \\\n",
       "recordid                                                                      \n",
       "142675    70.0     1.0   175.3    85.0    0     1     0      23.0    99.500   \n",
       "142676    57.0     0.0     NaN     NaN    0     0     0       NaN       NaN   \n",
       "142680    60.0     1.0   182.9    78.8    0     0     0      77.0    48.500   \n",
       "142683    64.0     1.0   180.3   145.2    0     1     0      44.0    87.965   \n",
       "142688    51.0     1.0   172.7    90.0    0     0     1       NaN       NaN   \n",
       "\n",
       "          AST_mean  ...  RespRate_std  SaO2_std  SysABP_std  Temp_std  \\\n",
       "recordid            ...                                                 \n",
       "142675     33.3225  ...           NaN  3.258555   21.826678  1.016234   \n",
       "142676         NaN  ...      4.012392       NaN         NaN  0.835029   \n",
       "142680     27.5000  ...           NaN       NaN   15.385343  1.025493   \n",
       "142683    102.6650  ...           NaN  3.141125   19.276830  0.349386   \n",
       "142688         NaN  ...      3.515944       NaN    9.202165  0.572607   \n",
       "\n",
       "          TroponinI_std  TroponinT_std   Urine_std   WBC_std  Weight_std  \\\n",
       "recordid                                                                   \n",
       "142675              NaN            NaN  115.334737  1.226739         NaN   \n",
       "142676              NaN            NaN   91.638933  5.161880         NaN   \n",
       "142680              NaN            NaN  151.584813  2.433790    0.312238   \n",
       "142683              NaN            NaN  138.287678  2.579832         NaN   \n",
       "142688              NaN            NaN   51.557356  2.474874         NaN   \n",
       "\n",
       "            pH_std  \n",
       "recordid            \n",
       "142675    0.067404  \n",
       "142676         NaN  \n",
       "142680    0.070812  \n",
       "142683    0.073249  \n",
       "142688         NaN  \n",
       "\n",
       "[5 rows x 81 columns]"
      ]
     },
     "execution_count": 44,
     "metadata": {},
     "output_type": "execute_result"
    }
   ],
   "source": [
    "X.head()"
   ]
  },
  {
   "cell_type": "markdown",
   "metadata": {},
   "source": [
    "5. **attach outcomes to X**"
   ]
  },
  {
   "cell_type": "code",
   "execution_count": 45,
   "metadata": {},
   "outputs": [],
   "source": [
    "# format the outcomes first   \n",
    "y.set_index('RecordID', inplace=True)\n",
    "y.index.name = 'recordid'"
   ]
  },
  {
   "cell_type": "code",
   "execution_count": 46,
   "metadata": {},
   "outputs": [
    {
     "data": {
      "text/html": [
       "<div>\n",
       "<style scoped>\n",
       "    .dataframe tbody tr th:only-of-type {\n",
       "        vertical-align: middle;\n",
       "    }\n",
       "\n",
       "    .dataframe tbody tr th {\n",
       "        vertical-align: top;\n",
       "    }\n",
       "\n",
       "    .dataframe thead th {\n",
       "        text-align: right;\n",
       "    }\n",
       "</style>\n",
       "<table border=\"1\" class=\"dataframe\">\n",
       "  <thead>\n",
       "    <tr style=\"text-align: right;\">\n",
       "      <th></th>\n",
       "      <th>recordid</th>\n",
       "      <th>Age</th>\n",
       "      <th>Gender</th>\n",
       "      <th>Height</th>\n",
       "      <th>Weight</th>\n",
       "      <th>CCU</th>\n",
       "      <th>CSRU</th>\n",
       "      <th>SICU</th>\n",
       "      <th>ALP_mean</th>\n",
       "      <th>ALT_mean</th>\n",
       "      <th>...</th>\n",
       "      <th>SaO2_std</th>\n",
       "      <th>SysABP_std</th>\n",
       "      <th>Temp_std</th>\n",
       "      <th>TroponinI_std</th>\n",
       "      <th>TroponinT_std</th>\n",
       "      <th>Urine_std</th>\n",
       "      <th>WBC_std</th>\n",
       "      <th>Weight_std</th>\n",
       "      <th>pH_std</th>\n",
       "      <th>In-hospital_death</th>\n",
       "    </tr>\n",
       "  </thead>\n",
       "  <tbody>\n",
       "    <tr>\n",
       "      <th>0</th>\n",
       "      <td>142675</td>\n",
       "      <td>70.0</td>\n",
       "      <td>1.0</td>\n",
       "      <td>175.3</td>\n",
       "      <td>85.0</td>\n",
       "      <td>0</td>\n",
       "      <td>1</td>\n",
       "      <td>0</td>\n",
       "      <td>23.0</td>\n",
       "      <td>99.500</td>\n",
       "      <td>...</td>\n",
       "      <td>3.258555</td>\n",
       "      <td>21.826678</td>\n",
       "      <td>1.016234</td>\n",
       "      <td>NaN</td>\n",
       "      <td>NaN</td>\n",
       "      <td>115.334737</td>\n",
       "      <td>1.226739</td>\n",
       "      <td>NaN</td>\n",
       "      <td>0.067404</td>\n",
       "      <td>1</td>\n",
       "    </tr>\n",
       "    <tr>\n",
       "      <th>1</th>\n",
       "      <td>142676</td>\n",
       "      <td>57.0</td>\n",
       "      <td>0.0</td>\n",
       "      <td>NaN</td>\n",
       "      <td>NaN</td>\n",
       "      <td>0</td>\n",
       "      <td>0</td>\n",
       "      <td>0</td>\n",
       "      <td>NaN</td>\n",
       "      <td>NaN</td>\n",
       "      <td>...</td>\n",
       "      <td>NaN</td>\n",
       "      <td>NaN</td>\n",
       "      <td>0.835029</td>\n",
       "      <td>NaN</td>\n",
       "      <td>NaN</td>\n",
       "      <td>91.638933</td>\n",
       "      <td>5.161880</td>\n",
       "      <td>NaN</td>\n",
       "      <td>NaN</td>\n",
       "      <td>0</td>\n",
       "    </tr>\n",
       "    <tr>\n",
       "      <th>2</th>\n",
       "      <td>142680</td>\n",
       "      <td>60.0</td>\n",
       "      <td>1.0</td>\n",
       "      <td>182.9</td>\n",
       "      <td>78.8</td>\n",
       "      <td>0</td>\n",
       "      <td>0</td>\n",
       "      <td>0</td>\n",
       "      <td>77.0</td>\n",
       "      <td>48.500</td>\n",
       "      <td>...</td>\n",
       "      <td>NaN</td>\n",
       "      <td>15.385343</td>\n",
       "      <td>1.025493</td>\n",
       "      <td>NaN</td>\n",
       "      <td>NaN</td>\n",
       "      <td>151.584813</td>\n",
       "      <td>2.433790</td>\n",
       "      <td>0.312238</td>\n",
       "      <td>0.070812</td>\n",
       "      <td>1</td>\n",
       "    </tr>\n",
       "    <tr>\n",
       "      <th>3</th>\n",
       "      <td>142683</td>\n",
       "      <td>64.0</td>\n",
       "      <td>1.0</td>\n",
       "      <td>180.3</td>\n",
       "      <td>145.2</td>\n",
       "      <td>0</td>\n",
       "      <td>1</td>\n",
       "      <td>0</td>\n",
       "      <td>44.0</td>\n",
       "      <td>87.965</td>\n",
       "      <td>...</td>\n",
       "      <td>3.141125</td>\n",
       "      <td>19.276830</td>\n",
       "      <td>0.349386</td>\n",
       "      <td>NaN</td>\n",
       "      <td>NaN</td>\n",
       "      <td>138.287678</td>\n",
       "      <td>2.579832</td>\n",
       "      <td>NaN</td>\n",
       "      <td>0.073249</td>\n",
       "      <td>0</td>\n",
       "    </tr>\n",
       "    <tr>\n",
       "      <th>4</th>\n",
       "      <td>142688</td>\n",
       "      <td>51.0</td>\n",
       "      <td>1.0</td>\n",
       "      <td>172.7</td>\n",
       "      <td>90.0</td>\n",
       "      <td>0</td>\n",
       "      <td>0</td>\n",
       "      <td>1</td>\n",
       "      <td>NaN</td>\n",
       "      <td>NaN</td>\n",
       "      <td>...</td>\n",
       "      <td>NaN</td>\n",
       "      <td>9.202165</td>\n",
       "      <td>0.572607</td>\n",
       "      <td>NaN</td>\n",
       "      <td>NaN</td>\n",
       "      <td>51.557356</td>\n",
       "      <td>2.474874</td>\n",
       "      <td>NaN</td>\n",
       "      <td>NaN</td>\n",
       "      <td>0</td>\n",
       "    </tr>\n",
       "  </tbody>\n",
       "</table>\n",
       "<p>5 rows × 83 columns</p>\n",
       "</div>"
      ],
      "text/plain": [
       "   recordid   Age  Gender  Height  Weight  CCU  CSRU  SICU  ALP_mean  \\\n",
       "0    142675  70.0     1.0   175.3    85.0    0     1     0      23.0   \n",
       "1    142676  57.0     0.0     NaN     NaN    0     0     0       NaN   \n",
       "2    142680  60.0     1.0   182.9    78.8    0     0     0      77.0   \n",
       "3    142683  64.0     1.0   180.3   145.2    0     1     0      44.0   \n",
       "4    142688  51.0     1.0   172.7    90.0    0     0     1       NaN   \n",
       "\n",
       "   ALT_mean  ...  SaO2_std  SysABP_std  Temp_std  TroponinI_std  \\\n",
       "0    99.500  ...  3.258555   21.826678  1.016234            NaN   \n",
       "1       NaN  ...       NaN         NaN  0.835029            NaN   \n",
       "2    48.500  ...       NaN   15.385343  1.025493            NaN   \n",
       "3    87.965  ...  3.141125   19.276830  0.349386            NaN   \n",
       "4       NaN  ...       NaN    9.202165  0.572607            NaN   \n",
       "\n",
       "   TroponinT_std   Urine_std   WBC_std  Weight_std    pH_std  \\\n",
       "0            NaN  115.334737  1.226739         NaN  0.067404   \n",
       "1            NaN   91.638933  5.161880         NaN       NaN   \n",
       "2            NaN  151.584813  2.433790    0.312238  0.070812   \n",
       "3            NaN  138.287678  2.579832         NaN  0.073249   \n",
       "4            NaN   51.557356  2.474874         NaN       NaN   \n",
       "\n",
       "   In-hospital_death  \n",
       "0                  1  \n",
       "1                  0  \n",
       "2                  1  \n",
       "3                  0  \n",
       "4                  0  \n",
       "\n",
       "[5 rows x 83 columns]"
      ]
     },
     "execution_count": 46,
     "metadata": {},
     "output_type": "execute_result"
    }
   ],
   "source": [
    "# attach outcomes to X\n",
    "X = pd.merge(X,y['In-hospital_death'], how='inner', left_index=True, right_index=True)\n",
    "X.reset_index(inplace=True)\n",
    "X.head()"
   ]
  },
  {
   "cell_type": "code",
   "execution_count": 47,
   "metadata": {},
   "outputs": [
    {
     "data": {
      "text/plain": [
       "0    3425\n",
       "1     567\n",
       "Name: In-hospital_death, dtype: int64"
      ]
     },
     "execution_count": 47,
     "metadata": {},
     "output_type": "execute_result"
    }
   ],
   "source": [
    "X['In-hospital_death'].value_counts()"
   ]
  },
  {
   "cell_type": "code",
   "execution_count": 48,
   "metadata": {},
   "outputs": [
    {
     "data": {
      "text/plain": [
       "3992"
      ]
     },
     "execution_count": 48,
     "metadata": {},
     "output_type": "execute_result"
    }
   ],
   "source": [
    "len(X)"
   ]
  },
  {
   "cell_type": "markdown",
   "metadata": {},
   "source": [
    "6. **train/test split**\n",
    "    * (optional) sample to reduce effect of class imballance"
   ]
  },
  {
   "cell_type": "code",
   "execution_count": 49,
   "metadata": {},
   "outputs": [],
   "source": [
    "# 70/30 train/test set split with 12345=seed and ensuring even distibution of classes. \n",
    "\n",
    "from sklearn.model_selection import train_test_split\n",
    "train, test = train_test_split(X, test_size=0.3, random_state=12345, \n",
    "                               stratify=X['In-hospital_death'])"
   ]
  },
  {
   "cell_type": "code",
   "execution_count": 50,
   "metadata": {},
   "outputs": [
    {
     "data": {
      "text/plain": [
       "0    2397\n",
       "1     397\n",
       "Name: In-hospital_death, dtype: int64"
      ]
     },
     "execution_count": 50,
     "metadata": {},
     "output_type": "execute_result"
    }
   ],
   "source": [
    "train['In-hospital_death'].value_counts()"
   ]
  },
  {
   "cell_type": "code",
   "execution_count": 51,
   "metadata": {},
   "outputs": [
    {
     "data": {
      "text/plain": [
       "0    1028\n",
       "1     170\n",
       "Name: In-hospital_death, dtype: int64"
      ]
     },
     "execution_count": 51,
     "metadata": {},
     "output_type": "execute_result"
    }
   ],
   "source": [
    "test['In-hospital_death'].value_counts()"
   ]
  },
  {
   "cell_type": "markdown",
   "metadata": {},
   "source": [
    "### (optional): downsample training samples to adjust for class imballance\n",
    "* since the readmission/non-readmission labels are imballanced, adjusting for this in the training set can help improve performance. "
   ]
  },
  {
   "cell_type": "code",
   "execution_count": 52,
   "metadata": {},
   "outputs": [],
   "source": [
    "# split the training data into positive and negative\n",
    "rows_pos = train['In-hospital_death'] == 1\n",
    "df_train_pos = train.loc[rows_pos,:]\n",
    "df_train_neg = train.loc[~rows_pos,:]\n",
    "# merge the balanced data\n",
    "train = pd.concat([df_train_pos, df_train_neg.sample(n = len(df_train_pos), random_state = 42)],axis = 0)\n",
    "# shuffle the order of training samples \n",
    "train = train.sample(n = len(train), random_state = 42).reset_index(drop = True)"
   ]
  },
  {
   "cell_type": "code",
   "execution_count": 53,
   "metadata": {},
   "outputs": [
    {
     "data": {
      "text/html": [
       "<div>\n",
       "<style scoped>\n",
       "    .dataframe tbody tr th:only-of-type {\n",
       "        vertical-align: middle;\n",
       "    }\n",
       "\n",
       "    .dataframe tbody tr th {\n",
       "        vertical-align: top;\n",
       "    }\n",
       "\n",
       "    .dataframe thead th {\n",
       "        text-align: right;\n",
       "    }\n",
       "</style>\n",
       "<table border=\"1\" class=\"dataframe\">\n",
       "  <thead>\n",
       "    <tr style=\"text-align: right;\">\n",
       "      <th></th>\n",
       "      <th>recordid</th>\n",
       "      <th>Age</th>\n",
       "      <th>Gender</th>\n",
       "      <th>Height</th>\n",
       "      <th>Weight</th>\n",
       "      <th>CCU</th>\n",
       "      <th>CSRU</th>\n",
       "      <th>SICU</th>\n",
       "      <th>ALP_mean</th>\n",
       "      <th>ALT_mean</th>\n",
       "      <th>...</th>\n",
       "      <th>SaO2_std</th>\n",
       "      <th>SysABP_std</th>\n",
       "      <th>Temp_std</th>\n",
       "      <th>TroponinI_std</th>\n",
       "      <th>TroponinT_std</th>\n",
       "      <th>Urine_std</th>\n",
       "      <th>WBC_std</th>\n",
       "      <th>Weight_std</th>\n",
       "      <th>pH_std</th>\n",
       "      <th>In-hospital_death</th>\n",
       "    </tr>\n",
       "  </thead>\n",
       "  <tbody>\n",
       "    <tr>\n",
       "      <th>count</th>\n",
       "      <td>794.000000</td>\n",
       "      <td>794.000000</td>\n",
       "      <td>794.000000</td>\n",
       "      <td>401.000000</td>\n",
       "      <td>737.000000</td>\n",
       "      <td>794.000000</td>\n",
       "      <td>794.000000</td>\n",
       "      <td>794.000000</td>\n",
       "      <td>385.000000</td>\n",
       "      <td>394.000000</td>\n",
       "      <td>...</td>\n",
       "      <td>268.000000</td>\n",
       "      <td>574.000000</td>\n",
       "      <td>785.000000</td>\n",
       "      <td>30.000000</td>\n",
       "      <td>162.000000</td>\n",
       "      <td>775.000000</td>\n",
       "      <td>755.000000</td>\n",
       "      <td>531.000000</td>\n",
       "      <td>574.000000</td>\n",
       "      <td>794.000000</td>\n",
       "    </tr>\n",
       "    <tr>\n",
       "      <th>mean</th>\n",
       "      <td>147772.060453</td>\n",
       "      <td>66.095718</td>\n",
       "      <td>0.557935</td>\n",
       "      <td>168.667082</td>\n",
       "      <td>78.630896</td>\n",
       "      <td>0.138539</td>\n",
       "      <td>0.141058</td>\n",
       "      <td>0.277078</td>\n",
       "      <td>99.808302</td>\n",
       "      <td>38.305974</td>\n",
       "      <td>...</td>\n",
       "      <td>1.862937</td>\n",
       "      <td>17.158694</td>\n",
       "      <td>0.627091</td>\n",
       "      <td>3.502832</td>\n",
       "      <td>0.228382</td>\n",
       "      <td>88.562051</td>\n",
       "      <td>2.506819</td>\n",
       "      <td>0.634285</td>\n",
       "      <td>0.050538</td>\n",
       "      <td>0.500000</td>\n",
       "    </tr>\n",
       "    <tr>\n",
       "      <th>std</th>\n",
       "      <td>2909.800688</td>\n",
       "      <td>17.248818</td>\n",
       "      <td>0.496945</td>\n",
       "      <td>11.326196</td>\n",
       "      <td>22.122832</td>\n",
       "      <td>0.345683</td>\n",
       "      <td>0.348301</td>\n",
       "      <td>0.447837</td>\n",
       "      <td>59.854421</td>\n",
       "      <td>35.638447</td>\n",
       "      <td>...</td>\n",
       "      <td>3.195510</td>\n",
       "      <td>5.853223</td>\n",
       "      <td>0.270547</td>\n",
       "      <td>5.086946</td>\n",
       "      <td>0.785196</td>\n",
       "      <td>55.630543</td>\n",
       "      <td>2.090518</td>\n",
       "      <td>1.954998</td>\n",
       "      <td>0.029418</td>\n",
       "      <td>0.500315</td>\n",
       "    </tr>\n",
       "    <tr>\n",
       "      <th>min</th>\n",
       "      <td>142680.000000</td>\n",
       "      <td>16.000000</td>\n",
       "      <td>0.000000</td>\n",
       "      <td>124.500000</td>\n",
       "      <td>36.000000</td>\n",
       "      <td>0.000000</td>\n",
       "      <td>0.000000</td>\n",
       "      <td>0.000000</td>\n",
       "      <td>30.000000</td>\n",
       "      <td>2.435000</td>\n",
       "      <td>...</td>\n",
       "      <td>0.000000</td>\n",
       "      <td>2.629956</td>\n",
       "      <td>0.115820</td>\n",
       "      <td>0.070711</td>\n",
       "      <td>0.000000</td>\n",
       "      <td>0.000000</td>\n",
       "      <td>0.000000</td>\n",
       "      <td>0.000000</td>\n",
       "      <td>0.000000</td>\n",
       "      <td>0.000000</td>\n",
       "    </tr>\n",
       "    <tr>\n",
       "      <th>25%</th>\n",
       "      <td>145304.500000</td>\n",
       "      <td>54.250000</td>\n",
       "      <td>0.000000</td>\n",
       "      <td>162.600000</td>\n",
       "      <td>63.800000</td>\n",
       "      <td>0.000000</td>\n",
       "      <td>0.000000</td>\n",
       "      <td>0.000000</td>\n",
       "      <td>62.000000</td>\n",
       "      <td>15.000000</td>\n",
       "      <td>...</td>\n",
       "      <td>0.702846</td>\n",
       "      <td>13.060973</td>\n",
       "      <td>0.436585</td>\n",
       "      <td>0.542981</td>\n",
       "      <td>0.007803</td>\n",
       "      <td>46.564129</td>\n",
       "      <td>1.051783</td>\n",
       "      <td>0.000000</td>\n",
       "      <td>0.029537</td>\n",
       "      <td>0.000000</td>\n",
       "    </tr>\n",
       "    <tr>\n",
       "      <th>50%</th>\n",
       "      <td>147902.000000</td>\n",
       "      <td>69.000000</td>\n",
       "      <td>1.000000</td>\n",
       "      <td>170.200000</td>\n",
       "      <td>75.600000</td>\n",
       "      <td>0.000000</td>\n",
       "      <td>0.000000</td>\n",
       "      <td>0.000000</td>\n",
       "      <td>81.000000</td>\n",
       "      <td>27.000000</td>\n",
       "      <td>...</td>\n",
       "      <td>1.016398</td>\n",
       "      <td>16.379343</td>\n",
       "      <td>0.585540</td>\n",
       "      <td>1.425358</td>\n",
       "      <td>0.042030</td>\n",
       "      <td>77.708663</td>\n",
       "      <td>1.985783</td>\n",
       "      <td>0.000000</td>\n",
       "      <td>0.045548</td>\n",
       "      <td>0.500000</td>\n",
       "    </tr>\n",
       "    <tr>\n",
       "      <th>75%</th>\n",
       "      <td>150230.750000</td>\n",
       "      <td>80.000000</td>\n",
       "      <td>1.000000</td>\n",
       "      <td>177.800000</td>\n",
       "      <td>89.400000</td>\n",
       "      <td>0.000000</td>\n",
       "      <td>0.000000</td>\n",
       "      <td>1.000000</td>\n",
       "      <td>116.000000</td>\n",
       "      <td>47.750000</td>\n",
       "      <td>...</td>\n",
       "      <td>1.926793</td>\n",
       "      <td>20.407935</td>\n",
       "      <td>0.760263</td>\n",
       "      <td>3.904929</td>\n",
       "      <td>0.141472</td>\n",
       "      <td>122.502186</td>\n",
       "      <td>3.334137</td>\n",
       "      <td>0.097068</td>\n",
       "      <td>0.064595</td>\n",
       "      <td>1.000000</td>\n",
       "    </tr>\n",
       "    <tr>\n",
       "      <th>max</th>\n",
       "      <td>152864.000000</td>\n",
       "      <td>90.000000</td>\n",
       "      <td>1.000000</td>\n",
       "      <td>193.000000</td>\n",
       "      <td>205.000000</td>\n",
       "      <td>1.000000</td>\n",
       "      <td>1.000000</td>\n",
       "      <td>1.000000</td>\n",
       "      <td>370.000000</td>\n",
       "      <td>196.000000</td>\n",
       "      <td>...</td>\n",
       "      <td>30.405592</td>\n",
       "      <td>39.303915</td>\n",
       "      <td>1.946860</td>\n",
       "      <td>21.433385</td>\n",
       "      <td>8.502513</td>\n",
       "      <td>390.828180</td>\n",
       "      <td>19.300777</td>\n",
       "      <td>23.626372</td>\n",
       "      <td>0.205020</td>\n",
       "      <td>1.000000</td>\n",
       "    </tr>\n",
       "  </tbody>\n",
       "</table>\n",
       "<p>8 rows × 83 columns</p>\n",
       "</div>"
      ],
      "text/plain": [
       "            recordid         Age      Gender      Height      Weight  \\\n",
       "count     794.000000  794.000000  794.000000  401.000000  737.000000   \n",
       "mean   147772.060453   66.095718    0.557935  168.667082   78.630896   \n",
       "std      2909.800688   17.248818    0.496945   11.326196   22.122832   \n",
       "min    142680.000000   16.000000    0.000000  124.500000   36.000000   \n",
       "25%    145304.500000   54.250000    0.000000  162.600000   63.800000   \n",
       "50%    147902.000000   69.000000    1.000000  170.200000   75.600000   \n",
       "75%    150230.750000   80.000000    1.000000  177.800000   89.400000   \n",
       "max    152864.000000   90.000000    1.000000  193.000000  205.000000   \n",
       "\n",
       "              CCU        CSRU        SICU    ALP_mean    ALT_mean  ...  \\\n",
       "count  794.000000  794.000000  794.000000  385.000000  394.000000  ...   \n",
       "mean     0.138539    0.141058    0.277078   99.808302   38.305974  ...   \n",
       "std      0.345683    0.348301    0.447837   59.854421   35.638447  ...   \n",
       "min      0.000000    0.000000    0.000000   30.000000    2.435000  ...   \n",
       "25%      0.000000    0.000000    0.000000   62.000000   15.000000  ...   \n",
       "50%      0.000000    0.000000    0.000000   81.000000   27.000000  ...   \n",
       "75%      0.000000    0.000000    1.000000  116.000000   47.750000  ...   \n",
       "max      1.000000    1.000000    1.000000  370.000000  196.000000  ...   \n",
       "\n",
       "         SaO2_std  SysABP_std    Temp_std  TroponinI_std  TroponinT_std  \\\n",
       "count  268.000000  574.000000  785.000000      30.000000     162.000000   \n",
       "mean     1.862937   17.158694    0.627091       3.502832       0.228382   \n",
       "std      3.195510    5.853223    0.270547       5.086946       0.785196   \n",
       "min      0.000000    2.629956    0.115820       0.070711       0.000000   \n",
       "25%      0.702846   13.060973    0.436585       0.542981       0.007803   \n",
       "50%      1.016398   16.379343    0.585540       1.425358       0.042030   \n",
       "75%      1.926793   20.407935    0.760263       3.904929       0.141472   \n",
       "max     30.405592   39.303915    1.946860      21.433385       8.502513   \n",
       "\n",
       "        Urine_std     WBC_std  Weight_std      pH_std  In-hospital_death  \n",
       "count  775.000000  755.000000  531.000000  574.000000         794.000000  \n",
       "mean    88.562051    2.506819    0.634285    0.050538           0.500000  \n",
       "std     55.630543    2.090518    1.954998    0.029418           0.500315  \n",
       "min      0.000000    0.000000    0.000000    0.000000           0.000000  \n",
       "25%     46.564129    1.051783    0.000000    0.029537           0.000000  \n",
       "50%     77.708663    1.985783    0.000000    0.045548           0.500000  \n",
       "75%    122.502186    3.334137    0.097068    0.064595           1.000000  \n",
       "max    390.828180   19.300777   23.626372    0.205020           1.000000  \n",
       "\n",
       "[8 rows x 83 columns]"
      ]
     },
     "execution_count": 53,
     "metadata": {},
     "output_type": "execute_result"
    }
   ],
   "source": [
    "train.describe()"
   ]
  },
  {
   "cell_type": "code",
   "execution_count": 54,
   "metadata": {},
   "outputs": [
    {
     "data": {
      "text/html": [
       "<div>\n",
       "<style scoped>\n",
       "    .dataframe tbody tr th:only-of-type {\n",
       "        vertical-align: middle;\n",
       "    }\n",
       "\n",
       "    .dataframe tbody tr th {\n",
       "        vertical-align: top;\n",
       "    }\n",
       "\n",
       "    .dataframe thead th {\n",
       "        text-align: right;\n",
       "    }\n",
       "</style>\n",
       "<table border=\"1\" class=\"dataframe\">\n",
       "  <thead>\n",
       "    <tr style=\"text-align: right;\">\n",
       "      <th></th>\n",
       "      <th>recordid</th>\n",
       "      <th>Age</th>\n",
       "      <th>Gender</th>\n",
       "      <th>Height</th>\n",
       "      <th>Weight</th>\n",
       "      <th>CCU</th>\n",
       "      <th>CSRU</th>\n",
       "      <th>SICU</th>\n",
       "      <th>ALP_mean</th>\n",
       "      <th>ALT_mean</th>\n",
       "      <th>...</th>\n",
       "      <th>SaO2_std</th>\n",
       "      <th>SysABP_std</th>\n",
       "      <th>Temp_std</th>\n",
       "      <th>TroponinI_std</th>\n",
       "      <th>TroponinT_std</th>\n",
       "      <th>Urine_std</th>\n",
       "      <th>WBC_std</th>\n",
       "      <th>Weight_std</th>\n",
       "      <th>pH_std</th>\n",
       "      <th>In-hospital_death</th>\n",
       "    </tr>\n",
       "  </thead>\n",
       "  <tbody>\n",
       "    <tr>\n",
       "      <th>0</th>\n",
       "      <td>152134</td>\n",
       "      <td>64.0</td>\n",
       "      <td>0.0</td>\n",
       "      <td>152.4</td>\n",
       "      <td>58.4</td>\n",
       "      <td>0</td>\n",
       "      <td>1</td>\n",
       "      <td>0</td>\n",
       "      <td>86.00</td>\n",
       "      <td>50.00</td>\n",
       "      <td>...</td>\n",
       "      <td>0.744024</td>\n",
       "      <td>11.353694</td>\n",
       "      <td>0.358498</td>\n",
       "      <td>NaN</td>\n",
       "      <td>NaN</td>\n",
       "      <td>117.866189</td>\n",
       "      <td>2.687006</td>\n",
       "      <td>0.000000</td>\n",
       "      <td>0.058430</td>\n",
       "      <td>0</td>\n",
       "    </tr>\n",
       "    <tr>\n",
       "      <th>1</th>\n",
       "      <td>147863</td>\n",
       "      <td>49.0</td>\n",
       "      <td>0.0</td>\n",
       "      <td>154.9</td>\n",
       "      <td>51.0</td>\n",
       "      <td>0</td>\n",
       "      <td>1</td>\n",
       "      <td>0</td>\n",
       "      <td>NaN</td>\n",
       "      <td>NaN</td>\n",
       "      <td>...</td>\n",
       "      <td>1.516575</td>\n",
       "      <td>22.395709</td>\n",
       "      <td>0.342089</td>\n",
       "      <td>NaN</td>\n",
       "      <td>NaN</td>\n",
       "      <td>145.267306</td>\n",
       "      <td>2.121320</td>\n",
       "      <td>4.026726</td>\n",
       "      <td>0.043627</td>\n",
       "      <td>0</td>\n",
       "    </tr>\n",
       "    <tr>\n",
       "      <th>2</th>\n",
       "      <td>152640</td>\n",
       "      <td>47.0</td>\n",
       "      <td>0.0</td>\n",
       "      <td>149.9</td>\n",
       "      <td>79.4</td>\n",
       "      <td>0</td>\n",
       "      <td>0</td>\n",
       "      <td>0</td>\n",
       "      <td>104.00</td>\n",
       "      <td>30.00</td>\n",
       "      <td>...</td>\n",
       "      <td>13.426342</td>\n",
       "      <td>14.855307</td>\n",
       "      <td>0.977241</td>\n",
       "      <td>NaN</td>\n",
       "      <td>NaN</td>\n",
       "      <td>129.950434</td>\n",
       "      <td>6.546577</td>\n",
       "      <td>0.000000</td>\n",
       "      <td>0.064638</td>\n",
       "      <td>1</td>\n",
       "    </tr>\n",
       "    <tr>\n",
       "      <th>3</th>\n",
       "      <td>152487</td>\n",
       "      <td>55.0</td>\n",
       "      <td>1.0</td>\n",
       "      <td>NaN</td>\n",
       "      <td>137.0</td>\n",
       "      <td>0</td>\n",
       "      <td>0</td>\n",
       "      <td>0</td>\n",
       "      <td>73.75</td>\n",
       "      <td>62.25</td>\n",
       "      <td>...</td>\n",
       "      <td>NaN</td>\n",
       "      <td>13.038001</td>\n",
       "      <td>0.397520</td>\n",
       "      <td>NaN</td>\n",
       "      <td>NaN</td>\n",
       "      <td>31.915248</td>\n",
       "      <td>8.163486</td>\n",
       "      <td>0.000000</td>\n",
       "      <td>NaN</td>\n",
       "      <td>0</td>\n",
       "    </tr>\n",
       "    <tr>\n",
       "      <th>4</th>\n",
       "      <td>146329</td>\n",
       "      <td>82.0</td>\n",
       "      <td>1.0</td>\n",
       "      <td>NaN</td>\n",
       "      <td>75.1</td>\n",
       "      <td>0</td>\n",
       "      <td>0</td>\n",
       "      <td>0</td>\n",
       "      <td>56.00</td>\n",
       "      <td>10.50</td>\n",
       "      <td>...</td>\n",
       "      <td>NaN</td>\n",
       "      <td>NaN</td>\n",
       "      <td>0.823352</td>\n",
       "      <td>NaN</td>\n",
       "      <td>NaN</td>\n",
       "      <td>124.801060</td>\n",
       "      <td>NaN</td>\n",
       "      <td>0.000000</td>\n",
       "      <td>0.010000</td>\n",
       "      <td>1</td>\n",
       "    </tr>\n",
       "  </tbody>\n",
       "</table>\n",
       "<p>5 rows × 83 columns</p>\n",
       "</div>"
      ],
      "text/plain": [
       "   recordid   Age  Gender  Height  Weight  CCU  CSRU  SICU  ALP_mean  \\\n",
       "0    152134  64.0     0.0   152.4    58.4    0     1     0     86.00   \n",
       "1    147863  49.0     0.0   154.9    51.0    0     1     0       NaN   \n",
       "2    152640  47.0     0.0   149.9    79.4    0     0     0    104.00   \n",
       "3    152487  55.0     1.0     NaN   137.0    0     0     0     73.75   \n",
       "4    146329  82.0     1.0     NaN    75.1    0     0     0     56.00   \n",
       "\n",
       "   ALT_mean  ...   SaO2_std  SysABP_std  Temp_std  TroponinI_std  \\\n",
       "0     50.00  ...   0.744024   11.353694  0.358498            NaN   \n",
       "1       NaN  ...   1.516575   22.395709  0.342089            NaN   \n",
       "2     30.00  ...  13.426342   14.855307  0.977241            NaN   \n",
       "3     62.25  ...        NaN   13.038001  0.397520            NaN   \n",
       "4     10.50  ...        NaN         NaN  0.823352            NaN   \n",
       "\n",
       "   TroponinT_std   Urine_std   WBC_std  Weight_std    pH_std  \\\n",
       "0            NaN  117.866189  2.687006    0.000000  0.058430   \n",
       "1            NaN  145.267306  2.121320    4.026726  0.043627   \n",
       "2            NaN  129.950434  6.546577    0.000000  0.064638   \n",
       "3            NaN   31.915248  8.163486    0.000000       NaN   \n",
       "4            NaN  124.801060       NaN    0.000000  0.010000   \n",
       "\n",
       "   In-hospital_death  \n",
       "0                  0  \n",
       "1                  0  \n",
       "2                  1  \n",
       "3                  0  \n",
       "4                  1  \n",
       "\n",
       "[5 rows x 83 columns]"
      ]
     },
     "execution_count": 54,
     "metadata": {},
     "output_type": "execute_result"
    }
   ],
   "source": [
    "train.head()"
   ]
  },
  {
   "cell_type": "code",
   "execution_count": 55,
   "metadata": {},
   "outputs": [
    {
     "data": {
      "text/html": [
       "<div>\n",
       "<style scoped>\n",
       "    .dataframe tbody tr th:only-of-type {\n",
       "        vertical-align: middle;\n",
       "    }\n",
       "\n",
       "    .dataframe tbody tr th {\n",
       "        vertical-align: top;\n",
       "    }\n",
       "\n",
       "    .dataframe thead th {\n",
       "        text-align: right;\n",
       "    }\n",
       "</style>\n",
       "<table border=\"1\" class=\"dataframe\">\n",
       "  <thead>\n",
       "    <tr style=\"text-align: right;\">\n",
       "      <th></th>\n",
       "      <th>recordid</th>\n",
       "      <th>Age</th>\n",
       "      <th>Gender</th>\n",
       "      <th>Height</th>\n",
       "      <th>Weight</th>\n",
       "      <th>CCU</th>\n",
       "      <th>CSRU</th>\n",
       "      <th>SICU</th>\n",
       "      <th>ALP_mean</th>\n",
       "      <th>ALT_mean</th>\n",
       "      <th>...</th>\n",
       "      <th>SaO2_std</th>\n",
       "      <th>SysABP_std</th>\n",
       "      <th>Temp_std</th>\n",
       "      <th>TroponinI_std</th>\n",
       "      <th>TroponinT_std</th>\n",
       "      <th>Urine_std</th>\n",
       "      <th>WBC_std</th>\n",
       "      <th>Weight_std</th>\n",
       "      <th>pH_std</th>\n",
       "      <th>In-hospital_death</th>\n",
       "    </tr>\n",
       "  </thead>\n",
       "  <tbody>\n",
       "    <tr>\n",
       "      <th>1708</th>\n",
       "      <td>146981</td>\n",
       "      <td>70.0</td>\n",
       "      <td>1.0</td>\n",
       "      <td>175.3</td>\n",
       "      <td>73.2</td>\n",
       "      <td>0</td>\n",
       "      <td>0</td>\n",
       "      <td>0</td>\n",
       "      <td>50.0</td>\n",
       "      <td>32.0</td>\n",
       "      <td>...</td>\n",
       "      <td>NaN</td>\n",
       "      <td>18.213177</td>\n",
       "      <td>0.658017</td>\n",
       "      <td>NaN</td>\n",
       "      <td>NaN</td>\n",
       "      <td>111.215722</td>\n",
       "      <td>2.751363</td>\n",
       "      <td>0.0</td>\n",
       "      <td>0.029364</td>\n",
       "      <td>0</td>\n",
       "    </tr>\n",
       "    <tr>\n",
       "      <th>588</th>\n",
       "      <td>144127</td>\n",
       "      <td>84.0</td>\n",
       "      <td>0.0</td>\n",
       "      <td>157.5</td>\n",
       "      <td>60.2</td>\n",
       "      <td>1</td>\n",
       "      <td>0</td>\n",
       "      <td>0</td>\n",
       "      <td>105.0</td>\n",
       "      <td>25.5</td>\n",
       "      <td>...</td>\n",
       "      <td>NaN</td>\n",
       "      <td>NaN</td>\n",
       "      <td>0.572276</td>\n",
       "      <td>NaN</td>\n",
       "      <td>NaN</td>\n",
       "      <td>90.152849</td>\n",
       "      <td>4.808326</td>\n",
       "      <td>NaN</td>\n",
       "      <td>NaN</td>\n",
       "      <td>0</td>\n",
       "    </tr>\n",
       "    <tr>\n",
       "      <th>2580</th>\n",
       "      <td>149214</td>\n",
       "      <td>36.0</td>\n",
       "      <td>1.0</td>\n",
       "      <td>NaN</td>\n",
       "      <td>NaN</td>\n",
       "      <td>0</td>\n",
       "      <td>0</td>\n",
       "      <td>0</td>\n",
       "      <td>NaN</td>\n",
       "      <td>NaN</td>\n",
       "      <td>...</td>\n",
       "      <td>NaN</td>\n",
       "      <td>NaN</td>\n",
       "      <td>0.521071</td>\n",
       "      <td>NaN</td>\n",
       "      <td>NaN</td>\n",
       "      <td>278.388218</td>\n",
       "      <td>1.767767</td>\n",
       "      <td>NaN</td>\n",
       "      <td>0.021213</td>\n",
       "      <td>0</td>\n",
       "    </tr>\n",
       "    <tr>\n",
       "      <th>1982</th>\n",
       "      <td>147717</td>\n",
       "      <td>85.0</td>\n",
       "      <td>1.0</td>\n",
       "      <td>177.8</td>\n",
       "      <td>89.9</td>\n",
       "      <td>1</td>\n",
       "      <td>0</td>\n",
       "      <td>0</td>\n",
       "      <td>NaN</td>\n",
       "      <td>NaN</td>\n",
       "      <td>...</td>\n",
       "      <td>NaN</td>\n",
       "      <td>NaN</td>\n",
       "      <td>0.346410</td>\n",
       "      <td>NaN</td>\n",
       "      <td>NaN</td>\n",
       "      <td>80.481505</td>\n",
       "      <td>0.777817</td>\n",
       "      <td>NaN</td>\n",
       "      <td>NaN</td>\n",
       "      <td>0</td>\n",
       "    </tr>\n",
       "    <tr>\n",
       "      <th>2267</th>\n",
       "      <td>148450</td>\n",
       "      <td>63.0</td>\n",
       "      <td>1.0</td>\n",
       "      <td>182.9</td>\n",
       "      <td>84.9</td>\n",
       "      <td>0</td>\n",
       "      <td>0</td>\n",
       "      <td>1</td>\n",
       "      <td>79.0</td>\n",
       "      <td>12.0</td>\n",
       "      <td>...</td>\n",
       "      <td>NaN</td>\n",
       "      <td>16.285909</td>\n",
       "      <td>0.569187</td>\n",
       "      <td>NaN</td>\n",
       "      <td>5.398298</td>\n",
       "      <td>4.335897</td>\n",
       "      <td>1.285690</td>\n",
       "      <td>0.0</td>\n",
       "      <td>0.020817</td>\n",
       "      <td>0</td>\n",
       "    </tr>\n",
       "  </tbody>\n",
       "</table>\n",
       "<p>5 rows × 83 columns</p>\n",
       "</div>"
      ],
      "text/plain": [
       "      recordid   Age  Gender  Height  Weight  CCU  CSRU  SICU  ALP_mean  \\\n",
       "1708    146981  70.0     1.0   175.3    73.2    0     0     0      50.0   \n",
       "588     144127  84.0     0.0   157.5    60.2    1     0     0     105.0   \n",
       "2580    149214  36.0     1.0     NaN     NaN    0     0     0       NaN   \n",
       "1982    147717  85.0     1.0   177.8    89.9    1     0     0       NaN   \n",
       "2267    148450  63.0     1.0   182.9    84.9    0     0     1      79.0   \n",
       "\n",
       "      ALT_mean  ...  SaO2_std  SysABP_std  Temp_std  TroponinI_std  \\\n",
       "1708      32.0  ...       NaN   18.213177  0.658017            NaN   \n",
       "588       25.5  ...       NaN         NaN  0.572276            NaN   \n",
       "2580       NaN  ...       NaN         NaN  0.521071            NaN   \n",
       "1982       NaN  ...       NaN         NaN  0.346410            NaN   \n",
       "2267      12.0  ...       NaN   16.285909  0.569187            NaN   \n",
       "\n",
       "      TroponinT_std   Urine_std   WBC_std  Weight_std    pH_std  \\\n",
       "1708            NaN  111.215722  2.751363         0.0  0.029364   \n",
       "588             NaN   90.152849  4.808326         NaN       NaN   \n",
       "2580            NaN  278.388218  1.767767         NaN  0.021213   \n",
       "1982            NaN   80.481505  0.777817         NaN       NaN   \n",
       "2267       5.398298    4.335897  1.285690         0.0  0.020817   \n",
       "\n",
       "      In-hospital_death  \n",
       "1708                  0  \n",
       "588                   0  \n",
       "2580                  0  \n",
       "1982                  0  \n",
       "2267                  0  \n",
       "\n",
       "[5 rows x 83 columns]"
      ]
     },
     "execution_count": 55,
     "metadata": {},
     "output_type": "execute_result"
    }
   ],
   "source": [
    "test.head()"
   ]
  },
  {
   "cell_type": "code",
   "execution_count": 56,
   "metadata": {},
   "outputs": [
    {
     "data": {
      "text/plain": [
       "0    1028\n",
       "1     170\n",
       "Name: In-hospital_death, dtype: int64"
      ]
     },
     "execution_count": 56,
     "metadata": {},
     "output_type": "execute_result"
    }
   ],
   "source": [
    "test['In-hospital_death'].value_counts()"
   ]
  },
  {
   "cell_type": "markdown",
   "metadata": {},
   "source": [
    "7. **normalize and scale values (encouraged)**\n",
    "    * some modeling algorithms (not all) benefit from log scaling values and/ or converting them to unit variances (ie z_scores) with mean=0 and sd=1. \n",
    "    * this is partily because these monotonic transformations help adjust for skewed distributions"
   ]
  },
  {
   "cell_type": "code",
   "execution_count": 57,
   "metadata": {},
   "outputs": [],
   "source": [
    "def transform(df):\n",
    "    \"\"\"returns a dataframe where the values are scaled to unit variances, with mean=0 and std=1. \n",
    "    \n",
    "    Keyword arguments:\n",
    "    df -- the train or test dataframe (unscaled and not imputed) (dtype='dataframe', required)\n",
    "    \"\"\"\n",
    "\n",
    "    from sklearn.preprocessing import PowerTransformer, StandardScaler\n",
    "    scaler = StandardScaler()\n",
    "\n",
    "    do_not_scale=['Gender', 'In-hospital_death'] # we make a list of columns we don't want to scale (ie outcomes or categorical variables)\n",
    "    df.set_index('recordid', inplace=True) # here we make sure the index is set to be the recordid. this is important so we can easily attach back on the unscaled columns\n",
    "\n",
    "    scale= [x for x in list(df) if x not in do_not_scale]\n",
    "\n",
    "    df_s= scaler.fit_transform(np.log(df[scale]+1)) # here we logscale the x matrix +1 (to avoid the log(0) error). outputs a numpy matrix\n",
    "    df_s= pd.DataFrame(df_s, columns= scale) #convert it back to dataframe. \n",
    "    df_s.set_index(df.index, inplace=True) # here we make sure the index is set to be the recordid. this is important so we can easily attach back on the unscaled columns\n",
    "\n",
    "    df_s[[y for y in list(do_not_scale)]]=df[[y for y in list(do_not_scale)]] #attaching back on the unscaled columns\n",
    "    return(df_s)\n",
    "\n"
   ]
  },
  {
   "cell_type": "code",
   "execution_count": 58,
   "metadata": {},
   "outputs": [],
   "source": [
    "train_s= transform(train)\n",
    "test_s= transform(test)"
   ]
  },
  {
   "cell_type": "code",
   "execution_count": 59,
   "metadata": {},
   "outputs": [
    {
     "data": {
      "text/html": [
       "<div>\n",
       "<style scoped>\n",
       "    .dataframe tbody tr th:only-of-type {\n",
       "        vertical-align: middle;\n",
       "    }\n",
       "\n",
       "    .dataframe tbody tr th {\n",
       "        vertical-align: top;\n",
       "    }\n",
       "\n",
       "    .dataframe thead th {\n",
       "        text-align: right;\n",
       "    }\n",
       "</style>\n",
       "<table border=\"1\" class=\"dataframe\">\n",
       "  <thead>\n",
       "    <tr style=\"text-align: right;\">\n",
       "      <th></th>\n",
       "      <th>Age</th>\n",
       "      <th>Height</th>\n",
       "      <th>Weight</th>\n",
       "      <th>CCU</th>\n",
       "      <th>CSRU</th>\n",
       "      <th>SICU</th>\n",
       "      <th>ALP_mean</th>\n",
       "      <th>ALT_mean</th>\n",
       "      <th>AST_mean</th>\n",
       "      <th>Albumin_mean</th>\n",
       "      <th>...</th>\n",
       "      <th>SysABP_std</th>\n",
       "      <th>Temp_std</th>\n",
       "      <th>TroponinI_std</th>\n",
       "      <th>TroponinT_std</th>\n",
       "      <th>Urine_std</th>\n",
       "      <th>WBC_std</th>\n",
       "      <th>Weight_std</th>\n",
       "      <th>pH_std</th>\n",
       "      <th>Gender</th>\n",
       "      <th>In-hospital_death</th>\n",
       "    </tr>\n",
       "  </thead>\n",
       "  <tbody>\n",
       "    <tr>\n",
       "      <th>count</th>\n",
       "      <td>7.940000e+02</td>\n",
       "      <td>4.010000e+02</td>\n",
       "      <td>7.370000e+02</td>\n",
       "      <td>7.940000e+02</td>\n",
       "      <td>7.940000e+02</td>\n",
       "      <td>7.940000e+02</td>\n",
       "      <td>3.850000e+02</td>\n",
       "      <td>3.940000e+02</td>\n",
       "      <td>3.930000e+02</td>\n",
       "      <td>3.680000e+02</td>\n",
       "      <td>...</td>\n",
       "      <td>5.740000e+02</td>\n",
       "      <td>7.850000e+02</td>\n",
       "      <td>3.000000e+01</td>\n",
       "      <td>1.620000e+02</td>\n",
       "      <td>7.750000e+02</td>\n",
       "      <td>7.550000e+02</td>\n",
       "      <td>5.310000e+02</td>\n",
       "      <td>5.740000e+02</td>\n",
       "      <td>794.000000</td>\n",
       "      <td>794.000000</td>\n",
       "    </tr>\n",
       "    <tr>\n",
       "      <th>mean</th>\n",
       "      <td>-1.473213e-15</td>\n",
       "      <td>-1.164156e-14</td>\n",
       "      <td>-8.580503e-16</td>\n",
       "      <td>2.237225e-17</td>\n",
       "      <td>-4.530381e-17</td>\n",
       "      <td>1.029124e-16</td>\n",
       "      <td>3.506575e-16</td>\n",
       "      <td>9.017040e-17</td>\n",
       "      <td>-7.028587e-16</td>\n",
       "      <td>1.496388e-16</td>\n",
       "      <td>...</td>\n",
       "      <td>7.520117e-16</td>\n",
       "      <td>-6.324735e-16</td>\n",
       "      <td>-1.776357e-16</td>\n",
       "      <td>-4.111937e-18</td>\n",
       "      <td>-4.607067e-16</td>\n",
       "      <td>-3.417428e-16</td>\n",
       "      <td>7.359671e-17</td>\n",
       "      <td>7.852797e-17</td>\n",
       "      <td>0.557935</td>\n",
       "      <td>0.500000</td>\n",
       "    </tr>\n",
       "    <tr>\n",
       "      <th>std</th>\n",
       "      <td>1.000630e+00</td>\n",
       "      <td>1.001249e+00</td>\n",
       "      <td>1.000679e+00</td>\n",
       "      <td>1.000630e+00</td>\n",
       "      <td>1.000630e+00</td>\n",
       "      <td>1.000630e+00</td>\n",
       "      <td>1.001301e+00</td>\n",
       "      <td>1.001271e+00</td>\n",
       "      <td>1.001275e+00</td>\n",
       "      <td>1.001361e+00</td>\n",
       "      <td>...</td>\n",
       "      <td>1.000872e+00</td>\n",
       "      <td>1.000638e+00</td>\n",
       "      <td>1.017095e+00</td>\n",
       "      <td>1.003101e+00</td>\n",
       "      <td>1.000646e+00</td>\n",
       "      <td>1.000663e+00</td>\n",
       "      <td>1.000943e+00</td>\n",
       "      <td>1.000872e+00</td>\n",
       "      <td>0.496945</td>\n",
       "      <td>0.500315</td>\n",
       "    </tr>\n",
       "    <tr>\n",
       "      <th>min</th>\n",
       "      <td>-4.264425e+00</td>\n",
       "      <td>-4.361790e+00</td>\n",
       "      <td>-2.769024e+00</td>\n",
       "      <td>-4.010221e-01</td>\n",
       "      <td>-4.052442e-01</td>\n",
       "      <td>-6.190923e-01</td>\n",
       "      <td>-2.094460e+00</td>\n",
       "      <td>-2.491993e+00</td>\n",
       "      <td>-2.734185e+00</td>\n",
       "      <td>-2.750864e+00</td>\n",
       "      <td>...</td>\n",
       "      <td>-4.579689e+00</td>\n",
       "      <td>-2.320954e+00</td>\n",
       "      <td>-1.193975e+00</td>\n",
       "      <td>-4.903149e-01</td>\n",
       "      <td>-5.425252e+00</td>\n",
       "      <td>-2.156892e+00</td>\n",
       "      <td>-4.654913e-01</td>\n",
       "      <td>-1.777980e+00</td>\n",
       "      <td>0.000000</td>\n",
       "      <td>0.000000</td>\n",
       "    </tr>\n",
       "    <tr>\n",
       "      <th>25%</th>\n",
       "      <td>-4.876374e-01</td>\n",
       "      <td>-4.971855e-01</td>\n",
       "      <td>-6.462093e-01</td>\n",
       "      <td>-4.010221e-01</td>\n",
       "      <td>-4.052442e-01</td>\n",
       "      <td>-6.190923e-01</td>\n",
       "      <td>-6.719576e-01</td>\n",
       "      <td>-6.596046e-01</td>\n",
       "      <td>-5.587763e-01</td>\n",
       "      <td>-6.407084e-01</td>\n",
       "      <td>...</td>\n",
       "      <td>-5.929953e-01</td>\n",
       "      <td>-7.118740e-01</td>\n",
       "      <td>-7.637943e-01</td>\n",
       "      <td>-4.630787e-01</td>\n",
       "      <td>-5.057099e-01</td>\n",
       "      <td>-7.660943e-01</td>\n",
       "      <td>-4.654913e-01</td>\n",
       "      <td>-7.200236e-01</td>\n",
       "      <td>0.000000</td>\n",
       "      <td>0.000000</td>\n",
       "    </tr>\n",
       "    <tr>\n",
       "      <th>50%</th>\n",
       "      <td>2.707083e-01</td>\n",
       "      <td>1.647223e-01</td>\n",
       "      <td>-1.248941e-02</td>\n",
       "      <td>-4.010221e-01</td>\n",
       "      <td>-4.052442e-01</td>\n",
       "      <td>-6.190923e-01</td>\n",
       "      <td>-1.432246e-01</td>\n",
       "      <td>6.879312e-03</td>\n",
       "      <td>8.250322e-02</td>\n",
       "      <td>3.313277e-02</td>\n",
       "      <td>...</td>\n",
       "      <td>3.077681e-02</td>\n",
       "      <td>-8.362016e-02</td>\n",
       "      <td>-2.313323e-01</td>\n",
       "      <td>-3.460410e-01</td>\n",
       "      <td>1.358764e-01</td>\n",
       "      <td>-4.012335e-02</td>\n",
       "      <td>-4.654913e-01</td>\n",
       "      <td>-1.591633e-01</td>\n",
       "      <td>1.000000</td>\n",
       "      <td>0.500000</td>\n",
       "    </tr>\n",
       "    <tr>\n",
       "      <th>75%</th>\n",
       "      <td>7.384035e-01</td>\n",
       "      <td>7.978751e-01</td>\n",
       "      <td>6.150017e-01</td>\n",
       "      <td>-4.010221e-01</td>\n",
       "      <td>-4.052442e-01</td>\n",
       "      <td>1.615268e+00</td>\n",
       "      <td>5.697939e-01</td>\n",
       "      <td>6.672240e-01</td>\n",
       "      <td>7.060414e-01</td>\n",
       "      <td>7.820264e-01</td>\n",
       "      <td>...</td>\n",
       "      <td>6.445380e-01</td>\n",
       "      <td>5.820883e-01</td>\n",
       "      <td>5.977432e-01</td>\n",
       "      <td>-2.665315e-02</td>\n",
       "      <td>7.097337e-01</td>\n",
       "      <td>6.810231e-01</td>\n",
       "      <td>-2.957705e-01</td>\n",
       "      <td>4.969901e-01</td>\n",
       "      <td>1.000000</td>\n",
       "      <td>1.000000</td>\n",
       "    </tr>\n",
       "    <tr>\n",
       "      <th>max</th>\n",
       "      <td>1.111429e+00</td>\n",
       "      <td>1.987207e+00</td>\n",
       "      <td>3.735017e+00</td>\n",
       "      <td>2.493628e+00</td>\n",
       "      <td>2.467648e+00</td>\n",
       "      <td>1.615268e+00</td>\n",
       "      <td>2.884698e+00</td>\n",
       "      <td>2.330455e+00</td>\n",
       "      <td>1.979497e+00</td>\n",
       "      <td>2.594937e+00</td>\n",
       "      <td>...</td>\n",
       "      <td>2.507161e+00</td>\n",
       "      <td>3.863415e+00</td>\n",
       "      <td>2.388017e+00</td>\n",
       "      <td>7.399815e+00</td>\n",
       "      <td>2.180427e+00</td>\n",
       "      <td>3.669135e+00</td>\n",
       "      <td>5.404004e+00</td>\n",
       "      <td>5.000170e+00</td>\n",
       "      <td>1.000000</td>\n",
       "      <td>1.000000</td>\n",
       "    </tr>\n",
       "  </tbody>\n",
       "</table>\n",
       "<p>8 rows × 82 columns</p>\n",
       "</div>"
      ],
      "text/plain": [
       "                Age        Height        Weight           CCU          CSRU  \\\n",
       "count  7.940000e+02  4.010000e+02  7.370000e+02  7.940000e+02  7.940000e+02   \n",
       "mean  -1.473213e-15 -1.164156e-14 -8.580503e-16  2.237225e-17 -4.530381e-17   \n",
       "std    1.000630e+00  1.001249e+00  1.000679e+00  1.000630e+00  1.000630e+00   \n",
       "min   -4.264425e+00 -4.361790e+00 -2.769024e+00 -4.010221e-01 -4.052442e-01   \n",
       "25%   -4.876374e-01 -4.971855e-01 -6.462093e-01 -4.010221e-01 -4.052442e-01   \n",
       "50%    2.707083e-01  1.647223e-01 -1.248941e-02 -4.010221e-01 -4.052442e-01   \n",
       "75%    7.384035e-01  7.978751e-01  6.150017e-01 -4.010221e-01 -4.052442e-01   \n",
       "max    1.111429e+00  1.987207e+00  3.735017e+00  2.493628e+00  2.467648e+00   \n",
       "\n",
       "               SICU      ALP_mean      ALT_mean      AST_mean  Albumin_mean  \\\n",
       "count  7.940000e+02  3.850000e+02  3.940000e+02  3.930000e+02  3.680000e+02   \n",
       "mean   1.029124e-16  3.506575e-16  9.017040e-17 -7.028587e-16  1.496388e-16   \n",
       "std    1.000630e+00  1.001301e+00  1.001271e+00  1.001275e+00  1.001361e+00   \n",
       "min   -6.190923e-01 -2.094460e+00 -2.491993e+00 -2.734185e+00 -2.750864e+00   \n",
       "25%   -6.190923e-01 -6.719576e-01 -6.596046e-01 -5.587763e-01 -6.407084e-01   \n",
       "50%   -6.190923e-01 -1.432246e-01  6.879312e-03  8.250322e-02  3.313277e-02   \n",
       "75%    1.615268e+00  5.697939e-01  6.672240e-01  7.060414e-01  7.820264e-01   \n",
       "max    1.615268e+00  2.884698e+00  2.330455e+00  1.979497e+00  2.594937e+00   \n",
       "\n",
       "       ...    SysABP_std      Temp_std  TroponinI_std  TroponinT_std  \\\n",
       "count  ...  5.740000e+02  7.850000e+02   3.000000e+01   1.620000e+02   \n",
       "mean   ...  7.520117e-16 -6.324735e-16  -1.776357e-16  -4.111937e-18   \n",
       "std    ...  1.000872e+00  1.000638e+00   1.017095e+00   1.003101e+00   \n",
       "min    ... -4.579689e+00 -2.320954e+00  -1.193975e+00  -4.903149e-01   \n",
       "25%    ... -5.929953e-01 -7.118740e-01  -7.637943e-01  -4.630787e-01   \n",
       "50%    ...  3.077681e-02 -8.362016e-02  -2.313323e-01  -3.460410e-01   \n",
       "75%    ...  6.445380e-01  5.820883e-01   5.977432e-01  -2.665315e-02   \n",
       "max    ...  2.507161e+00  3.863415e+00   2.388017e+00   7.399815e+00   \n",
       "\n",
       "          Urine_std       WBC_std    Weight_std        pH_std      Gender  \\\n",
       "count  7.750000e+02  7.550000e+02  5.310000e+02  5.740000e+02  794.000000   \n",
       "mean  -4.607067e-16 -3.417428e-16  7.359671e-17  7.852797e-17    0.557935   \n",
       "std    1.000646e+00  1.000663e+00  1.000943e+00  1.000872e+00    0.496945   \n",
       "min   -5.425252e+00 -2.156892e+00 -4.654913e-01 -1.777980e+00    0.000000   \n",
       "25%   -5.057099e-01 -7.660943e-01 -4.654913e-01 -7.200236e-01    0.000000   \n",
       "50%    1.358764e-01 -4.012335e-02 -4.654913e-01 -1.591633e-01    1.000000   \n",
       "75%    7.097337e-01  6.810231e-01 -2.957705e-01  4.969901e-01    1.000000   \n",
       "max    2.180427e+00  3.669135e+00  5.404004e+00  5.000170e+00    1.000000   \n",
       "\n",
       "       In-hospital_death  \n",
       "count         794.000000  \n",
       "mean            0.500000  \n",
       "std             0.500315  \n",
       "min             0.000000  \n",
       "25%             0.000000  \n",
       "50%             0.500000  \n",
       "75%             1.000000  \n",
       "max             1.000000  \n",
       "\n",
       "[8 rows x 82 columns]"
      ]
     },
     "execution_count": 59,
     "metadata": {},
     "output_type": "execute_result"
    }
   ],
   "source": [
    "#lets check to make sure the values were transformed\n",
    "train_s.describe() #should be mean~0 and std~1"
   ]
  },
  {
   "cell_type": "code",
   "execution_count": 60,
   "metadata": {},
   "outputs": [
    {
     "data": {
      "text/html": [
       "<div>\n",
       "<style scoped>\n",
       "    .dataframe tbody tr th:only-of-type {\n",
       "        vertical-align: middle;\n",
       "    }\n",
       "\n",
       "    .dataframe tbody tr th {\n",
       "        vertical-align: top;\n",
       "    }\n",
       "\n",
       "    .dataframe thead th {\n",
       "        text-align: right;\n",
       "    }\n",
       "</style>\n",
       "<table border=\"1\" class=\"dataframe\">\n",
       "  <thead>\n",
       "    <tr style=\"text-align: right;\">\n",
       "      <th></th>\n",
       "      <th>Age</th>\n",
       "      <th>Height</th>\n",
       "      <th>Weight</th>\n",
       "      <th>CCU</th>\n",
       "      <th>CSRU</th>\n",
       "      <th>SICU</th>\n",
       "      <th>ALP_mean</th>\n",
       "      <th>ALT_mean</th>\n",
       "      <th>AST_mean</th>\n",
       "      <th>Albumin_mean</th>\n",
       "      <th>...</th>\n",
       "      <th>SysABP_std</th>\n",
       "      <th>Temp_std</th>\n",
       "      <th>TroponinI_std</th>\n",
       "      <th>TroponinT_std</th>\n",
       "      <th>Urine_std</th>\n",
       "      <th>WBC_std</th>\n",
       "      <th>Weight_std</th>\n",
       "      <th>pH_std</th>\n",
       "      <th>Gender</th>\n",
       "      <th>In-hospital_death</th>\n",
       "    </tr>\n",
       "    <tr>\n",
       "      <th>recordid</th>\n",
       "      <th></th>\n",
       "      <th></th>\n",
       "      <th></th>\n",
       "      <th></th>\n",
       "      <th></th>\n",
       "      <th></th>\n",
       "      <th></th>\n",
       "      <th></th>\n",
       "      <th></th>\n",
       "      <th></th>\n",
       "      <th></th>\n",
       "      <th></th>\n",
       "      <th></th>\n",
       "      <th></th>\n",
       "      <th></th>\n",
       "      <th></th>\n",
       "      <th></th>\n",
       "      <th></th>\n",
       "      <th></th>\n",
       "      <th></th>\n",
       "      <th></th>\n",
       "    </tr>\n",
       "  </thead>\n",
       "  <tbody>\n",
       "    <tr>\n",
       "      <th>152134</th>\n",
       "      <td>0.033237</td>\n",
       "      <td>-1.435580</td>\n",
       "      <td>-0.975819</td>\n",
       "      <td>-0.401022</td>\n",
       "      <td>2.467648</td>\n",
       "      <td>-0.619092</td>\n",
       "      <td>-0.024496</td>\n",
       "      <td>0.721008</td>\n",
       "      <td>1.136169</td>\n",
       "      <td>NaN</td>\n",
       "      <td>...</td>\n",
       "      <td>-0.974086</td>\n",
       "      <td>-1.067777</td>\n",
       "      <td>NaN</td>\n",
       "      <td>NaN</td>\n",
       "      <td>0.660997</td>\n",
       "      <td>0.368098</td>\n",
       "      <td>-0.465491</td>\n",
       "      <td>0.285924</td>\n",
       "      <td>0.0</td>\n",
       "      <td>0</td>\n",
       "    </tr>\n",
       "    <tr>\n",
       "      <th>147863</th>\n",
       "      <td>-0.807484</td>\n",
       "      <td>-1.199932</td>\n",
       "      <td>-1.479830</td>\n",
       "      <td>-0.401022</td>\n",
       "      <td>2.467648</td>\n",
       "      <td>-0.619092</td>\n",
       "      <td>NaN</td>\n",
       "      <td>NaN</td>\n",
       "      <td>NaN</td>\n",
       "      <td>NaN</td>\n",
       "      <td>...</td>\n",
       "      <td>0.905938</td>\n",
       "      <td>-1.145167</td>\n",
       "      <td>NaN</td>\n",
       "      <td>NaN</td>\n",
       "      <td>0.925233</td>\n",
       "      <td>0.045785</td>\n",
       "      <td>2.492816</td>\n",
       "      <td>-0.225992</td>\n",
       "      <td>0.0</td>\n",
       "      <td>0</td>\n",
       "    </tr>\n",
       "    <tr>\n",
       "      <th>152640</th>\n",
       "      <td>-0.938294</td>\n",
       "      <td>-1.675101</td>\n",
       "      <td>0.170920</td>\n",
       "      <td>-0.401022</td>\n",
       "      <td>-0.405244</td>\n",
       "      <td>-0.619092</td>\n",
       "      <td>0.352725</td>\n",
       "      <td>0.128099</td>\n",
       "      <td>-0.152517</td>\n",
       "      <td>-0.128432</td>\n",
       "      <td>...</td>\n",
       "      <td>-0.239416</td>\n",
       "      <td>1.322309</td>\n",
       "      <td>NaN</td>\n",
       "      <td>NaN</td>\n",
       "      <td>0.784328</td>\n",
       "      <td>1.754195</td>\n",
       "      <td>-0.465491</td>\n",
       "      <td>0.498468</td>\n",
       "      <td>0.0</td>\n",
       "      <td>1</td>\n",
       "    </tr>\n",
       "    <tr>\n",
       "      <th>152487</th>\n",
       "      <td>-0.444334</td>\n",
       "      <td>NaN</td>\n",
       "      <td>2.217411</td>\n",
       "      <td>-0.401022</td>\n",
       "      <td>-0.405244</td>\n",
       "      <td>-0.619092</td>\n",
       "      <td>-0.328914</td>\n",
       "      <td>0.977387</td>\n",
       "      <td>0.244210</td>\n",
       "      <td>0.989761</td>\n",
       "      <td>...</td>\n",
       "      <td>-0.597806</td>\n",
       "      <td>-0.887438</td>\n",
       "      <td>NaN</td>\n",
       "      <td>NaN</td>\n",
       "      <td>-0.974651</td>\n",
       "      <td>2.129867</td>\n",
       "      <td>-0.465491</td>\n",
       "      <td>NaN</td>\n",
       "      <td>1.0</td>\n",
       "      <td>0</td>\n",
       "    </tr>\n",
       "    <tr>\n",
       "      <th>146329</th>\n",
       "      <td>0.816564</td>\n",
       "      <td>NaN</td>\n",
       "      <td>-0.037297</td>\n",
       "      <td>-0.401022</td>\n",
       "      <td>-0.405244</td>\n",
       "      <td>-0.619092</td>\n",
       "      <td>-0.872718</td>\n",
       "      <td>-1.052912</td>\n",
       "      <td>-0.643187</td>\n",
       "      <td>NaN</td>\n",
       "      <td>...</td>\n",
       "      <td>NaN</td>\n",
       "      <td>0.806329</td>\n",
       "      <td>NaN</td>\n",
       "      <td>NaN</td>\n",
       "      <td>0.733226</td>\n",
       "      <td>NaN</td>\n",
       "      <td>-0.465491</td>\n",
       "      <td>-1.416339</td>\n",
       "      <td>1.0</td>\n",
       "      <td>1</td>\n",
       "    </tr>\n",
       "  </tbody>\n",
       "</table>\n",
       "<p>5 rows × 82 columns</p>\n",
       "</div>"
      ],
      "text/plain": [
       "               Age    Height    Weight       CCU      CSRU      SICU  \\\n",
       "recordid                                                               \n",
       "152134    0.033237 -1.435580 -0.975819 -0.401022  2.467648 -0.619092   \n",
       "147863   -0.807484 -1.199932 -1.479830 -0.401022  2.467648 -0.619092   \n",
       "152640   -0.938294 -1.675101  0.170920 -0.401022 -0.405244 -0.619092   \n",
       "152487   -0.444334       NaN  2.217411 -0.401022 -0.405244 -0.619092   \n",
       "146329    0.816564       NaN -0.037297 -0.401022 -0.405244 -0.619092   \n",
       "\n",
       "          ALP_mean  ALT_mean  AST_mean  Albumin_mean  ...  SysABP_std  \\\n",
       "recordid                                              ...               \n",
       "152134   -0.024496  0.721008  1.136169           NaN  ...   -0.974086   \n",
       "147863         NaN       NaN       NaN           NaN  ...    0.905938   \n",
       "152640    0.352725  0.128099 -0.152517     -0.128432  ...   -0.239416   \n",
       "152487   -0.328914  0.977387  0.244210      0.989761  ...   -0.597806   \n",
       "146329   -0.872718 -1.052912 -0.643187           NaN  ...         NaN   \n",
       "\n",
       "          Temp_std  TroponinI_std  TroponinT_std  Urine_std   WBC_std  \\\n",
       "recordid                                                                \n",
       "152134   -1.067777            NaN            NaN   0.660997  0.368098   \n",
       "147863   -1.145167            NaN            NaN   0.925233  0.045785   \n",
       "152640    1.322309            NaN            NaN   0.784328  1.754195   \n",
       "152487   -0.887438            NaN            NaN  -0.974651  2.129867   \n",
       "146329    0.806329            NaN            NaN   0.733226       NaN   \n",
       "\n",
       "          Weight_std    pH_std  Gender  In-hospital_death  \n",
       "recordid                                                   \n",
       "152134     -0.465491  0.285924     0.0                  0  \n",
       "147863      2.492816 -0.225992     0.0                  0  \n",
       "152640     -0.465491  0.498468     0.0                  1  \n",
       "152487     -0.465491       NaN     1.0                  0  \n",
       "146329     -0.465491 -1.416339     1.0                  1  \n",
       "\n",
       "[5 rows x 82 columns]"
      ]
     },
     "execution_count": 60,
     "metadata": {},
     "output_type": "execute_result"
    }
   ],
   "source": [
    "train_s.head() #lets see how the data looks"
   ]
  },
  {
   "cell_type": "markdown",
   "metadata": {},
   "source": [
    "8. **impute missing/null values**\n",
    "    * there are lots of ways to impute, \n",
    "    * impute in a way that makes sense for your data\n",
    "        * ie maybe it's the median of the \"healthy patients\"\n",
    "        * more complex algorithm such as MICE\n",
    "    * **here we will mean impute for simplicity**"
   ]
  },
  {
   "cell_type": "markdown",
   "metadata": {},
   "source": [
    "### impute"
   ]
  },
  {
   "cell_type": "code",
   "execution_count": 61,
   "metadata": {},
   "outputs": [],
   "source": [
    "def imputer_fxn(data, impute_type='mean'):\n",
    "    \"\"\"returns a dataframe where null values (np.nan) are filled in by the specified imputation technique (colwise)\n",
    "\n",
    "    Keyword arguments:\n",
    "    data -- the cleaned up vitals dataframe (dtype='dataframe', required)\n",
    "    impute_type -- string specifying the imputation type (ie mean, median, most_frequent. (dtype='str', default='mean')\n",
    "    \n",
    "    NOTE: this function assumes that categorical variables are already imputed and doesn't make any destinction between categorical or continuous variables. \n",
    "    \"\"\"\n",
    "    from sklearn.impute import SimpleImputer\n",
    "       \n",
    "    #impute\n",
    "    imp = SimpleImputer(missing_values=np.nan, strategy='{}'.format(impute_type))\n",
    "    data_imp= imp.fit_transform(data)\n",
    "    df= pd.DataFrame(data_imp, columns=list(data))\n",
    "    df.set_index(data.index, inplace=True)\n",
    "    \n",
    "    return(df)"
   ]
  },
  {
   "cell_type": "code",
   "execution_count": 62,
   "metadata": {},
   "outputs": [],
   "source": [
    "train_imp=imputer_fxn(train_s, impute_type='mean')\n",
    "test_imp=imputer_fxn(test_s,impute_type='mean')\n"
   ]
  },
  {
   "cell_type": "code",
   "execution_count": 63,
   "metadata": {},
   "outputs": [
    {
     "data": {
      "text/plain": [
       "0"
      ]
     },
     "execution_count": 63,
     "metadata": {},
     "output_type": "execute_result"
    }
   ],
   "source": [
    "# checking to make sure imputing worked\n",
    "pd.DataFrame(train_imp, columns=list(train_s)).isnull().sum().max()"
   ]
  },
  {
   "cell_type": "code",
   "execution_count": 64,
   "metadata": {},
   "outputs": [
    {
     "data": {
      "text/plain": [
       "0"
      ]
     },
     "execution_count": 64,
     "metadata": {},
     "output_type": "execute_result"
    }
   ],
   "source": [
    "pd.DataFrame(test_imp, columns=list(test_s)).isnull().sum().max()"
   ]
  },
  {
   "cell_type": "markdown",
   "metadata": {},
   "source": [
    "9. **finalize matrix for modeling**\n",
    "    * moving the outcome to a 'y' vector\n",
    "    * moving the row label to a 'recordid' vector\n",
    "    * converting the pandas dataframe into a numpy matrix (often perferred in modeling)"
   ]
  },
  {
   "cell_type": "code",
   "execution_count": 65,
   "metadata": {},
   "outputs": [
    {
     "data": {
      "text/plain": [
       "0      152134\n",
       "1      147863\n",
       "2      152640\n",
       "3      152487\n",
       "4      146329\n",
       "        ...  \n",
       "789    142795\n",
       "790    146614\n",
       "791    147438\n",
       "792    150081\n",
       "793    144694\n",
       "Name: recordid, Length: 794, dtype: int64"
      ]
     },
     "execution_count": 65,
     "metadata": {},
     "output_type": "execute_result"
    }
   ],
   "source": [
    "train_imp.reset_index().pop('recordid')"
   ]
  },
  {
   "cell_type": "code",
   "execution_count": 66,
   "metadata": {},
   "outputs": [],
   "source": [
    "#train\n",
    "train_recordid= train_imp.reset_index().pop('recordid')\n",
    "train_imp['In-hospital_death'] =pd.to_numeric(train_imp['In-hospital_death'])\n",
    "y= np.array(train_imp.pop('In-hospital_death'))\n",
    "x= np.array(train_imp)\n",
    "\n",
    "#test\n",
    "test_recordid= test_imp.reset_index().pop('recordid')\n",
    "test_imp['In-hospital_death'] =pd.to_numeric(test_imp['In-hospital_death'])\n",
    "y_test= np.array(test_imp.pop('In-hospital_death'))\n",
    "x_test= np.array(test_imp)"
   ]
  },
  {
   "cell_type": "code",
   "execution_count": 69,
   "metadata": {},
   "outputs": [],
   "source": [
    "pd.DataFrame(x).to_csv('../data/x.csv', index=False )\n",
    "pd.DataFrame(y).to_csv('../data/y.csv',index=False )\n",
    "pd.DataFrame(x_test).to_csv('../data/x_test.csv', index=False )\n",
    "pd.DataFrame(y_test).to_csv('../data/y_test.csv',index=False )\n",
    "pd.DataFrame(train_recordid).to_csv('../data/train_recordid.csv', index=False )\n",
    "pd.DataFrame(test_recordid).to_csv('../data/test_recordid.csv',index=False )"
   ]
  },
  {
   "cell_type": "code",
   "execution_count": null,
   "metadata": {},
   "outputs": [],
   "source": []
  }
 ],
 "metadata": {
  "kernelspec": {
   "display_name": "Python 3",
   "language": "python",
   "name": "python3"
  },
  "language_info": {
   "codemirror_mode": {
    "name": "ipython",
    "version": 3
   },
   "file_extension": ".py",
   "mimetype": "text/x-python",
   "name": "python",
   "nbconvert_exporter": "python",
   "pygments_lexer": "ipython3",
   "version": "3.6.10"
  }
 },
 "nbformat": 4,
 "nbformat_minor": 4
}
